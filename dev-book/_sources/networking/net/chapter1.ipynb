{
 "cells": [
  {
   "cell_type": "markdown",
   "metadata": {},
   "source": [
    "# Networking Fundamentals\n",
    "\n",
    "Networking is important to computer science, and big enough to be its own focus and focus of study. Networking forms the backbone of modern computing, allowing for communication between devices and systems across the globe. You want to get an HTTP response for an API? That’s networking. You want to connect to a server, or dealing with ports? Networking. You want to work on the same shared doc on GoogleDocs? Guess what, that works because of networking. It’s the basis of how interconnected computing devices can share data and resources with each other- which is super important for how we share  on the internet! These networked devices use a system of rules, called communications protocols, to transmit information over physical or wireless technologies. In this chapter, we will cover some networking fundamentals.\n",
    "\n",
    "## Networking Components\n",
    "\n",
    "### OSI Model\n",
    "Networking has many levels, some of which are how different types of software interact with each other, and some of how software interacts with hardware. The Open Systems Interconnection model or OSI provides us with a framework of how to handle network communication in layers. We will be looking at the layers from the server side.\n",
    "\n",
    "![image.png](../../images/src/os.png)\n",
    "\n",
    "Image Source: https://www.cloudflare.com/it-it/learning/ddos/glossary/open-systems-interconnection-model-osi/\n",
    "\n",
    "**Physical Layer:** \n",
    "- The physical layer focuses on (surprise) the physical layer between two devices. It transfers raw data using bits (think 0s and 1s). It also handles a lot of the management of those bits in different ways. One way is bit synchronization, where a clock synchronizes the sending of bits between the sender and the reciever, as well as the  transmission rate, the number of bits per second.\n",
    "\n",
    "**Data Link Layer:** \n",
    "- The data link layer has two main parts. The first part is the “medium access control,” which uses the MAC addresses (which we explain more in depth later in this chapter) from the network devices to transmit data between them. The second part is the “logical link layer,” which manages flow control, and does error checking on data transmission. This is often referred to as node-to-node data transfer.\n",
    "\n",
    "**Network Layer:** \n",
    "- Handles the routing and sending of data between different networks. The most important protocols at this layer are IP and ICMP.\n",
    "\n",
    "4. **Transport Layer:** Ensures end-to-end communication, including reliability (such as: TCP and UDP)\n",
    "5. **Session Layer:** Manages sessions and controls dialogues between applications\n",
    "6. **Presentation Layer:** Translates data formats and encryption (such as: SSL/TLS)\n",
    "7. **Application Layer:** Provides network services directly to applications (such as: HTTP, FTP)\n",
    "\n",
    "Most people who build software are focused on layers 5-7, because they are important to application-level interactions, like session management, data presentation, and application protocols.\n",
    "\n",
    "Understanding these fundamental networking concepts is crucial for developers and IT professionals, ensuring effective communication and security within and across networks.\n",
    "\n",
    "![image.png](../../images/src/osi.png)\n",
    "\n",
    "Image Source: https://anamul-haque.medium.com/what-is-the-osi-model-66758c44c896\n",
    "\n",
    "### TCP/IP Model\n",
    "\n",
    "\n",
    "## Networking Potpourri\n",
    "Let's go through some important concepts in networking.\n",
    "\n",
    "### Dealing with IP Addresses, MAC Addresses, and Subnets\n",
    "\n",
    "An IP address (Internet Protocol address) is a unique identifier assigned to each device connected to a network. It facilitates the routing of data packets (data packets are a small unit of information that is sent over a network, like the internet, from one device to another) between different devices over the internet. IP addresses come in two versions: IPv4 (this looks like: `192.168.1.1`) and IPv6 (and this looks like: `2001:0db8:85a3:0000:0000:8a2e:0370:7334`). IPv4 addresses are 32-bit, while IPv6 addresses are 128-bit, which gives you a much larger address space!\n"
   ]
  },
  {
   "cell_type": "markdown",
   "metadata": {},
   "source": [
    "![image.png](../../images/src/ip.png)\n",
    "\n",
    "Image Source: https://www.zenarmor.com/docs/network-basics/what-is-ip-address"
   ]
  },
  {
   "cell_type": "code",
   "execution_count": null,
   "metadata": {},
   "outputs": [],
   "source": [
    "#python has a built in socket library\n",
    "import socket\n",
    "\n",
    "#we will get the host name of the local computer\n",
    "host = socket.gethostname()\n",
    "\n",
    "#we will get the IP address using the host name\n",
    "ip_address = socket.gethostbyname(host)\n",
    "\n",
    "print(f\"Hostname: {host}\")\n",
    "\n",
    "#this would print my IP address!\n",
    "#but let's not do that (for security reasons)\n",
    "#try out this code locally and uncomment it if you want to see yours :)\n",
    "\n",
    "#print(f\"IP Address: {ip_address}\")"
   ]
  },
  {
   "cell_type": "markdown",
   "metadata": {},
   "source": [
    "Or, if you don't want to run that code snippet, you can check out this site: \n",
    "https://whatismyipaddress.com/"
   ]
  },
  {
   "cell_type": "markdown",
   "metadata": {},
   "source": [
    "Now that we know about IP addresses, let’s look at MAC addresses. A MAC address (Media Access Control address) is a unique code given to every network device, like your laptop or phone. It helps identify each device on a local network and is written in a format like this: `00:1A:2B:3C:4D:5E`. It's written in 12 character alphanumeric address, as you have now seen! It's often used in technology like bluetooth, ethernet, or wifi. Unlike IP addresses, which can change, MAC addresses always stay the same. They're also often referred to as physical addresses or burned in addresses because are assigned by the manufacturer of the device.\n",
    "\n",
    "A subnet, or subnetwork, is a way to divide a larger network into smaller sections. Imagine a big office building with separate rooms for different teams; each room is a subnet within the building. Subnets use something called a subnet mask to decide how big each section is and how many IP addresses it can have. This division helps make the network work better and keeps it more secure by reducing traffic and controlling where messages are sent. Continuining with our office analogy, you wouldn't want to send every message about a company to the CEO. The CEO would be overwhelmed and wouldn't necessarily give you the best response. Whereas if you reach out to a smaller office in the company, the response will be faster and better.\n"
   ]
  },
  {
   "cell_type": "markdown",
   "metadata": {},
   "source": [
    "![image.png](../../images/src/subnet.png)\n",
    "\n",
    "Image Source: https://medium.com/unicorn-ultra/what-is-subnet-from-simple-partitions-to-complex-chains-359ebccf520d"
   ]
  },
  {
   "cell_type": "markdown",
   "metadata": {},
   "source": [
    "### Network Address Translation (NAT)\n",
    "\n",
    "Network Address Translation is a technique used to modify network address information in IP packet headers while in transit across a routing device. NAT is commonly used to map a single public IP address to multiple private IP addresses within a local network. This allows multiple devices to share a single public IP address, conserving the limited number of available IPv4 addresses. NAT also provides a layer of security by masking internal IP addresses from external networks.\n",
    "\n",
    "\n",
    "### TCP and UDP\n",
    " \n",
    "Just like ships passing into ports to drop off different goods or packages, a port in software is a place to take in certain information between two points. We can define a port as an operating system abstraction, a point in software, where network connections can receive responses or information. Ports are managed by your operating system, and It's tied to a location in memory which is running code, which is \"listening\" for data packets to come into the port. You can communicate over ports with TCP or UDP.\n",
    "\n",
    "TCP (Transmission Control Protocol) and UDP (User Datagram Protocol) are two key protocols used for sending data over the internet, each serving different needs. TCP is known for its reliability; it ensures that data sent from one computer to another arrives accurately and in the correct order. It does this by establishing a connection between sender and receiver before transmitting data, checking for errors, and re-sending any lost or corrupted information. This makes TCP ideal for tasks where accuracy is crucial, such as loading websites, streaming videos, or sending emails.\n",
    "\n",
    "In contrast, UDP (User Datagram Protocol) focuses on speed and efficiency rather than reliability. It sends data packets quickly without establishing a connection or checking if the data arrives correctly. This makes UDP faster but less reliable, as it doesn’t guarantee that data will arrive intact or in the correct order. UDP is commonly used in scenarios where speed is more important than accuracy, such as online gaming, live video streaming, or VoIP calls, where occasional data loss is acceptable in exchange for maintaining smooth and fast communication.\n",
    "\n",
    "You can check out some well known ports, and what they tend to be used for here: https://www.geeksforgeeks.org/50-common-ports-you-should-know/\n",
    "\n",
    "### Domain Name System\n",
    "\n",
    "The Domain Name System (DNS) translates human-readable domain names (e.g., www.thisisafakewebsite.com) into IP addresses that computers can understand and use to identify each other devices on the network. \n",
    "\n",
    "Some public DNS are managed by organizations like Google or Cloudflare, public DNS servers provide domain resolution services for general internet use. They handle high query volumes and offer features like caching to improve speed and performance.\n",
    "\n",
    "- **Internal DNS:** Used within private networks to resolve domain names to internal IP addresses. It helps manage internal resources and can provide more control over network traffic.\n",
    "\n",
    "**Record Types:** DNS records include:\n",
    "- **A Record:** Maps a domain to an IPv4 address.\n",
    "- **AAAA Record:** Maps a domain to an IPv6 address.\n",
    "- **CNAME Record:** Alias for another domain name.\n",
    "- **MX Record:** Specifies mail servers for the domain.\n",
    "- **TXT Record:** Holds text information for various purposes, including verification.\n",
    "\n",
    "**TTL (Time to Live):** TTL indicates how long a DNS record is cached by DNS resolvers before being refreshed. A shorter TTL can provide quicker updates, while a longer TTL can reduce DNS lookup times but may delay changes.\n",
    "\n",
    "### SSL Certificates\n",
    "Secure Sockets Layer (SSL) certificates encrypt data exchanged between a user’s browser and a web server. This ensures secure communication, protecting sensitive information from interception. SSL certificates are issued by Certificate Authorities (CAs) which include important details like the domain name, the certificate authority, and a public key. They are very important to renew (and can take down production if you don’t…). They ensure that the website you’re working with is trustworthy- like making sure a site uses https instead of http. Having an SSL ensures that people will trust your site, and your site isn’t the result of some hacker trying to steal information. \n"
   ]
  },
  {
   "cell_type": "markdown",
   "metadata": {},
   "source": [
    "## Network Architectures"
   ]
  },
  {
   "cell_type": "markdown",
   "metadata": {},
   "source": [
    "There are three main types of network arcitecture. INSERT THEM HERE"
   ]
  },
  {
   "cell_type": "markdown",
   "metadata": {},
   "source": [
    "## Conclusion\n",
    "\n",
    "Networking is hugely important to understanding how different devices interact with each other and how they share data. Understanding how networking works helps you create software that is integrated into larger networks, and gives your application the power to interact with other devices- which is what makes the internet so cool! It can also help you understand how to structure your projects, which we will go over in the next chapter of our networking section.\n",
    "\n",
    "Happy Coding!"
   ]
  }
 ],
 "metadata": {
  "language_info": {
   "name": "python"
  }
 },
 "nbformat": 4,
 "nbformat_minor": 2
}
