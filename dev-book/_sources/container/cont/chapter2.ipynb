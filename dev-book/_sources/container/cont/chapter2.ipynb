{
 "cells": [
  {
   "cell_type": "markdown",
   "id": "c20bffe2-d852-4b42-9c80-e43dbe8ebc45",
   "metadata": {},
   "source": [
    "# An Interview with Sally O'Malley, Container Expert"
   ]
  },
  {
   "cell_type": "markdown",
   "id": "ae9755b4",
   "metadata": {},
   "source": [
    "<h5>An interview with Sally O’Malley, a principal software engineer at Red Hat. She has worked on various teams within OpenShift. Currently, she is with the Emerging Technologies group within Red Hat. She enjoys combining open-source tools in creative ways to solve complex problems. She gave some great advice for juniors, and shared insights on containers.</h5>\n",
    "\n",
    "This interview has been edited for length and clarity.\n",
    "\n",
    "Malhotra: Tell me a little about yourself.\n",
    "\n",
    "O’Malley: I can start with some industry stuff. I started my career late, I realized after I finished college the first time, I wanted to study computers. I kind of studied them the first time. I studied engineering, chemical engineering, but I had a mindset that I didn’t want a career- I wanted to learn and be free and travel. So that’s what I did, but when I decided I wanted to do this [pursue a career] I went back to school, at UMass Lowell, and I got an internship at Red Hat. And the rest is history, I’ve been here ever since.\n",
    "\n",
    "O’Malley: The idea of open source completely resonates with me. I can’t see myself working anywhere else.\n",
    "\n",
    "Malhotra: That’s great. Let’s get into our next question- what’s your favorite Linux command?\n",
    "\n",
    "O’Malley: My favorite linux command would have to be. What do I type most frequently- vim! I don’t know if that counts as a command.\n",
    "\n",
    "Malhotra: It counts.\n",
    "\n",
    "O’Malley: Then opening vim. That’s my favorite command. It means I’m gonna actually attempt to write some code. If I was just writing, I would open a google doc, but if I was writing for a repository, like a README.md or some markdown, which is code related, I’d open vim. That’s why it’s my favorite command. \n",
    "\n",
    "Malhotra: That’s a good command- but, I prefer emacs.\n",
    "\n",
    "O’Malley: As long as you’re writing code!\n"
   ]
  },
  {
   "cell_type": "markdown",
   "id": "769c7e30",
   "metadata": {},
   "source": [
    "## \"The idea of open source completely resonates with me.\""
   ]
  },
  {
   "cell_type": "markdown",
   "id": "6d145aaa",
   "metadata": {},
   "source": [
    "\n",
    "\n",
    "Me: My next question is, have you ever worked with interns or juniors, if so, where do you see skill gaps? \n",
    "\n",
    "O’Malley: Yes, I love working interns and students and juniors. The skill gaps are… command line stuff. Git. And those are things you learn on the job. I learned them my first year at Red Hat, I sat next to somebody and asked them. Which is a little sad, there isn’t that much sitting next to someone anymore, like there was ten years ago. But, we have to come to terms with that.\n",
    "\n",
    "O’Malley: But yeah, 90% of what you do on the job, you learn on the job. If it resonates with you, and if you’re working really hard on something that doesn’t feel like work, even if you’re banging your head on the wall, when it finally runs, you get that feeling that it was all worth it. If you have that, you’re probably in the right place. That’s what’s important to learn in school. There’s still a lot of stuff in school that directly applies to your job.\n",
    "\n",
    "Malhotra: That’s a great answer.\n",
    "\n",
    "O’Malley: Wait, we need to go back. I just wanted to say, working with interns and juniors, the reality is I will always learn more from you than you will from me. Even just articulating what I’m thinking, which is really hard for me, is a great exercise. My favorite quote ever is from Kelsey Hightower, he just recently retired from Google. He’s a brilliant technologist, and he just has this intuition about technology, and a really great set of values and integrity. And he said something that I think about when the interns come in every year, and it’s: “put someone in a position to succeed, and they just might.”\n",
    "\n",
    "O’Malley: It says a lot. I’ve worked with people who were my seniors, who didn’t do that for me. They would give me tasks that didn’t have a lot of impact, but that’s not how to position someone to succeed. The opposite of that, involving interns with the core of what you’re working on, that’s what he meant. You never know when someone’s gonna surprise you.\n",
    "\n",
    "Malhotra: You can never really guess how you or someone else is gonna end up contributing to something. Or seeing how someone else thinks about a problem in a way you could never guess. It’s cool.\n",
    "\n",
    "O’Malley: That’s what’s great about collaboration. You get something that neither of you had a couple minutes ago. Like what just happened. Yay.\n"
   ]
  },
  {
   "cell_type": "markdown",
   "id": "d0534784",
   "metadata": {},
   "source": [
    "## \"The whole job is cobbling things together, stumbling, and working things out.\""
   ]
  },
  {
   "cell_type": "markdown",
   "id": "352f757a",
   "metadata": {},
   "source": [
    "\n",
    "\n",
    "Malhotra: Yes! So, my next question is, why are containers interesting or important to you. \n",
    "\n",
    "O’Malley: Containers are the modern way of packaging and delivering software. They’re the only way that makes sense with how varied the footprints and architectures and where things are deployed, they provide the standards of packaging that the entire industry has agreed upon. It allows you to run it locally, on your friends laptop, on the cloud, on a Raspberry Pi, containers enable that.\n",
    "\n",
    "O’Malley: That’s a great description. Now my follow up question about containers is, why do you use Podman/why should people use Podman?\n",
    "\n",
    "O’Malley: I started out using Docker, because Podman didn’t exist. I started at Red Hat as an intern, working on the upstream Docker code. There were several conversations about the direction of the architecture, at Red Hat, we believed that you didn’t need the central agent, or daemon, that wasn’t necessary. We believed it was making things more complicated, and we wanted to run containers as a non-privileged user. That was the big thing. So Red Hat had a fork of Docker, but that didn’t work out, so instead we created Podman. Out of Podman grew the same 1:1 functions, but the architecture is completely different. So, I use Podman because it works for me.\n",
    "\n",
    "Malhotra: That’s a great answer. I have one last question, part of my goals with this textbook and interview series is to address imposter syndrome in younger engineers, especially women and people of color. I think it’s helpful to hear how people who are more experienced than you have made mistakes in their learning processes. Can you share a time in your career when you’ve made a mistake during your time as an engineer?\n",
    "\n",
    "O’Malley: I have made some big mistakes. I’m constantly making mistakes. My whole day is full of mistakes. Last week, I met with an engineer who I mentor, and she wanted to get ahead on some of the work she’ll be doing on a new team, dealing with her imposter syndrome. And we went through it together, and she was amazed by the way I figured stuff out. Because my way is me going to slack and asking two different people the same exact thing, and I would start out with the method whoever got back to me first, and then add what the other person said. But yeah, I’m constantly making mistakes, and so will you. And you will constantly feel like you don’t know what you’re doing, because there’s too much to know. If you know that you love learning and the project you’re working on, that will propel you. The whole job is cobbling things together, stumbling, and working things out. \n",
    "\n",
    "O’Malley: Especially where I am in Emerging Tech, some things you just can’t google because it doesn’t exist yet. And that’s super exciting.\n",
    "\n",
    "Malhotra: That’s really exciting. That’s it for my questions, thanks for helping out with the textbook!\n"
   ]
  }
 ],
 "metadata": {
  "kernelspec": {
   "display_name": "Python 3 (ipykernel)",
   "language": "python",
   "name": "python3"
  },
  "language_info": {
   "codemirror_mode": {
    "name": "ipython",
    "version": 3
   },
   "file_extension": ".py",
   "mimetype": "text/x-python",
   "name": "python",
   "nbconvert_exporter": "python",
   "pygments_lexer": "ipython3",
   "version": "3.10.5"
  }
 },
 "nbformat": 4,
 "nbformat_minor": 5
}
