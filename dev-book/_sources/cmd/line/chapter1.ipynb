{
 "cells": [
  {
   "cell_type": "markdown",
   "id": "c20bffe2-d852-4b42-9c80-e43dbe8ebc45",
   "metadata": {},
   "source": [
    "# Adventures in the Command Line"
   ]
  },
  {
   "cell_type": "markdown",
   "id": "5942212f-37f3-418e-b3cb-d852552e32cc",
   "metadata": {},
   "source": [
    "\n",
    "## An Introduction to IDEs\n",
    "\n",
    "When most people start programming, they do it on an integrated development environment or IDE. An example of an IDE you may have used is VSCode, IntelliJ, Spyder. An IDE is a collection of software that integrates essential tools for software development into a unified interface. It usually includes things like a source code editor with features like syntax highlighting, local build automation tools for compiling, a terminal, and a debugger for identifying and fixing bugs in the code. By combining these functionalities within a single interface, IDEs make it really easy to develop code and build applications. You can run and build code with a button, you don't need to think about compiling your code, and you can save code without having to use a version control system like Git (more on that later). But as the scale of development gets bigger, you might need more than an IDE.\n",
    "\n",
    "And that's where the command line comes in!"
   ]
  },
  {
   "cell_type": "markdown",
   "id": "7be097d8-e9a2-4491-9e9e-ccf456698754",
   "metadata": {},
   "source": [
    "Here's an example of an IDE, VSCode:\n",
    "\n",
    "![vscodepicture](../../images/src/vscode.png)\n",
    "\n",
    "Image Source: https://code.visualstudio.com/updates/v1_58"
   ]
  },
  {
   "cell_type": "markdown",
   "id": "8021cc3b",
   "metadata": {},
   "source": [
    "The command line, or terminal, or shell (I will be using these terms interchangably in this chapter) is a way to interact with your computer. It's often called a command-line interface (CLI) or shell. Let's go through a break\n",
    "\n",
    "Text Interface: Unlike graphical user interfaces (GUIs), which use windows, icons, and menus, terminals operate purely through text input and output. You can interact with the system by typing commands and reading text responses.\n",
    "\n",
    "\n",
    "Shell: The shell is a program that interprets commands entered by the user and executes them. Popular shells include Bash (Bourne Again Shell), Zsh (Z Shell) which is used on more modern Macs (Mac used bash before macOS Catalina), and PowerShell which is used on Windows.\n",
    "\n",
    "\n",
    "Commands: YOu can type commands into the terminal to perform various tasks such as navigating the file system, managing files, running programs, and configuring system settings.\n",
    "\n",
    "File System Navigation: You can navigate through directories and manipulate files using commands like `cd` (change directory), `ls` (list directory contents), `mkdir` (make directory), `rm` (remove files or directories), etc. You don't need to open up things manually with your command line, you can just navigate through typing - no need for your mouse! Many experienced programmers pride themselves on their ability to navigate their development environments without having to lift their fingers for aything but typing, increasing their programming efficiency.\n",
    "\n",
    "Scripting and Automation: Terminals are powerful tools for automation and scripting tasks. You can write scripts (sequences of commands) to perform repetitive tasks, manage system configurations, or automate software deployment. You can customize your system, especially with operating systems like Linux, to make your computer system work for you!\n",
    "\n",
    "Remote Access: Terminals are commonly used for remote access to servers and computers. Secure Shell (SSH) is a protocol that allows you to log in to a remote system securely via a terminal. This can also be useful when you want to access other code bases, (when we get into our git chapter, we can look at how to access other people's code bases with ssh). This is important for the collaboration needed in large scale projects!\n",
    "\n",
    "System Administration: System administrators use terminals for managing servers and performing administrative tasks, especially in headless (no graphical interface) server environments.\n",
    "\n",
    "Customization: You can customize their terminal environment with different colors, fonts, and shortcuts to enhance usability and productivity. Or just make things pretty :wink:\n",
    "\n",
    "Terminals provide a really flexible and powerful way to interact with a computer system, especially for tasks that require precise control or automation. So let's go through some of the ways you can interact with your terminal!"
   ]
  },
  {
   "cell_type": "markdown",
   "id": "37b1dff8",
   "metadata": {},
   "source": [
    "Here's a stylized version of a terminal:\n",
    "\n",
    "![image.png](../../images/src/redhatterminal.png)\n",
    "\n",
    "Image Source: https://www.unixsysadmin.com/rhel-9-resources/"
   ]
  },
  {
   "cell_type": "markdown",
   "id": "9d1645ba",
   "metadata": {},
   "source": [
    "### Exercise"
   ]
  },
  {
   "cell_type": "markdown",
   "id": "a97e6639",
   "metadata": {},
   "source": [
    "First open up a terminal. This is done differently on different computer systems, but most have an app to access your terminal! Once you're in your terminal, you can type `ls` to print out the files in your computer. The ls command stands for list, a way to list out everything in a folder, or directory. It's important to understand, most of your computer is a file system of programs. The terminal helps you navigate that file system.\n",
    "\n",
    "Let's try an exercise in how to navigate using the command line:\n",
    "\n",
    "First type `mkdir project` in your terminal and press enter. The `mkdir` command stands for make directory, so it creates a folder in which to hold your files.\n",
    "But, the `mkdir` command doesn't take you into the folder, it just creates one.\n",
    " \n",
    "To enter the folder type `cd project`. The `cd` command takes you into the the directory you want to be working in, the command is short for change directory. It takes an argument of the folder you want to move into, so if you want to cd into a folder named 'kittens', you would write `cd kittens`.\n",
    "\n",
    "To make sure we're in the right directory, we can type `pwd` which stands for print working directory, which let's you know what directory you're working in.\n",
    "\n",
    "Now let's write some code! (This part only works if you have python downloaded on your local system)\n",
    "\n",
    "First we'll make a file to write our code in, to do this, type `touch exercise.py`. The `touch` command creates a new file.\n",
    "\n",
    "Now to put some code in the file, try this command: `echo \"#!usr/bin/env python\" >> exercise.py` \n",
    "`echo \" \" >> exercise.py` \n",
    "`echo \"print('hello world')\" >> exercise.py`\n",
    "- Let's break these commands down, because it's actually a combination of commands! The first is the echo command. The echo is a command similar to print, that allows you to display lines of text or strings that are passed as arguments. The `usr/bin/env python` tells our system where python is in, so you can execute python code. The command after this, what might look like arrows, are called redirection, which has to do with input and output, you can think of the double arrows as moving some data into the file `exercise.py`. We'll go over more of redirection later!\n",
    "\n",
    "Our next step is to make it executable, so type `chmod +x exercise.py`. `chmod` stands for change mode, because every file on your computer has a set of actions you are allowed to do on that file. Some of these actions are like reading a file, writing to a file, or executing a file. Here we are changing it to be executable. If someone is developing a tool, they would have very different permissions to someone who's just trying to read the file, so these permissions can have very important security implications!\n",
    "\n",
    "Now let's execute some code!\n",
    "\n",
    "Type out `python something.py`. The output 'hello world' should be on your terminal.\n",
    "\n",
    "We were able to write and execute a whole program on just our terminal! But it was a pretty simple program- what if we wanted to write something much bigger? There are a lot of text editors that can integrate with the terminal, like emacs and vim! Even IDEs like VsCode are integrated within the terminal.\n",
    "\n",
    "Let's delete out work now.\n",
    "\n",
    "Type out `cd` and then `rmdir -r project`. The `rmdir -r`, rmdir stands for remove directory, and the -r stands for recursive, because rmdir usually acts on empty dictionaries. The -r flag allows things to be recursively deleted. Similarly, `rm` deletes files."
   ]
  },
  {
   "cell_type": "markdown",
   "id": "92054774",
   "metadata": {},
   "source": [
    "## Shell Command Basics\n",
    "\n",
    "1. **ls**\n",
    "   - Usage: `ls [directory]`\n",
    "   - Description: Lists directory contents\n",
    "\n",
    "2. **cd**\n",
    "   - Usage: `cd [directory]`\n",
    "   - Description: Changes the current directory\n",
    "\n",
    "3. **pwd**\n",
    "   - Usage: `pwd`\n",
    "   - Description: Prints the directory you are currently in\n",
    "\n",
    "4. **mkdir**\n",
    "   - Usage: `mkdir [directory_name]`\n",
    "   - Description: Creates a new directory\n",
    "   - Example: `mkdir my_folder` (creates a directory named \"my_folder\")\n",
    "\n",
    "5. **rm**\n",
    "   - Usage: `rm [file(s)]`\n",
    "   - Description: Removes (deletes) files or directories\n",
    "\n",
    "6. **cp**\n",
    "   - Usage: `cp [source] [destination]`\n",
    "   - Description: Copies files or directories\n",
    "   - Example: `cp file.txt new_location/` (copies \"file.txt\" to \"new_location/\"), `cp -r directory1 directory2` (copies \"directory1\" and its contents recursively to \"directory2\").\n",
    "\n",
    "7. **mv**\n",
    "   - Usage: `mv [source] [destination]`\n",
    "   - Description: Moves (or renames) files or directories\n",
    "   - Example: `mv file.txt new_location/` (moves \"file.txt\" to \"new_location/\"), `mv old_name.txt new_name.txt` (renames \"old_name.txt\" to \"new_name.txt\")\n",
    "\n",
    "8. **touch**\n",
    "   - Usage: `touch [file(s)]`\n",
    "   - Description: Creates an empty file or updates the timestamp of an existing file\n",
    "\n",
    "9. **echo**\n",
    "   - Usage: `echo [text]`\n",
    "   - Description: Prints text or variables to the terminal\n",
    "\n",
    "10. **cat**\n",
    "    - Usage: `cat [file(s)]`\n",
    "    - Description: Concatenates files and prints them to the standard output\n",
    "    - Example: `cat file.txt` (displays the contents of \"file.txt\" in the terminal)\n",
    "\n",
    "These are some of the fundamental shell commands used in Unix-like systems. But there are many more for you to try out and explore. Understanding the file system and paths are super important in computing, so try playing around with commands! If you want some more information about commands, or you just forget what a command does, you can type `man <command>`. This will give you a manual page, hence it's name the man pages. The man pages are a great way to learn about unix commands, and you don't have to navigate out of the terminal to use them. We have a whole chapter on how to read them if you find them confusing- so check out how to use the man pages! The man pages can often give you information about the commands options, that tell you how alter the behavior of these commands, but for simplicity, they aren't included here."
   ]
  },
  {
   "cell_type": "markdown",
   "id": "ed82cb79",
   "metadata": {},
   "source": [
    "Another important concept to understand in the command line is redirection! Redirection commands allows you to manage input and output streams, which lets you to control where the input comes from and where the output goes. Here are some common redirection operators and their typical usages:\n",
    "\n",
    "1. **Standard Output (stdout) Redirection (`>`)**\n",
    "\n",
    "   - Usage: `command > output_file`\n",
    "   - Description: Redirects the standard output of a command to a file. If the file already exists, it will be overwritten\n",
    "\n",
    "   - Example: `ls -l > listing.txt` (redirects the output of `ls -l` command to a file named `listing.txt`)\n",
    "\n",
    "2. **Append Output (`>>`)**\n",
    "\n",
    "   - Usage: `command >> output_file`\n",
    "   - Description: Appends the standard output of a command to a file. If the file does not exist, it will be created\n",
    "\n",
    "   - Example: `echo \"Additional text\" >> file.txt` (appends \"Additional text\" to `file.txt`)\n",
    "\n",
    "3. **Standard Input (stdin) Redirection (`<`)**\n",
    "\n",
    "   - Usage: `command < input_file`\n",
    "   - Description: Redirects the standard input of a command from a file instead of the keyboard\n",
    "\n",
    "   - Example: `wc -l < file.txt` (counts the number of lines in `file.txt`)\n",
    "\n",
    "4. **Pipe (`|`)**\n",
    "\n",
    "   - Usage: `first_command | command_we_want_to_be_piped_into`\n",
    "   - Description: Redirects the output of `first_command` as input into `command_we_want_to_be_piped_into`\n",
    "\n",
    "   - Example: `cat file.txt | grep \"pattern\"` (uses `cat` to output `file.txt` and `grep` to search for \"pattern\" in the output)\n",
    "\n",
    "5. **Redirect Standard Error (`2>`)**\n",
    "\n",
    "   - Usage: `command 2> error_file`\n",
    "   - Description: Redirects the standard error output of a command to a file\n",
    "\n",
    "   - Example: `ls -l /not_a_real_directory 2> error.log` (redirects error output to `error.log`)\n",
    "\n",
    "\n",
    "These redirection operators are powerful tools for manipulating input and output streams in shell scripts and commands. They allow you to capture output, suppress output, and manage errors effectively."
   ]
  },
  {
   "cell_type": "markdown",
   "id": "74a946e8",
   "metadata": {},
   "source": [
    "## Potpourri of Shell Command Info\n",
    "\n",
    "One interesting thing about a terminal"
   ]
  },
  {
   "cell_type": "markdown",
   "id": "d1653e17",
   "metadata": {},
   "source": [
    "## Conclusion\n",
    "\n",
    "Now that you have an overview of the how to use the commmand line, try it out yourself! Try exploring your file system, and navigating your computer by just typing some commands! If you need any help- remember, you can always check out the man pages.\n",
    "\n",
    "If you want to read more about the shell and what you can do with it: check out this chapter in another Open Education textbook: https://jappavoo.github.io/UndertheCovers/textbook/unix/shellintro.html\n",
    "\n",
    "Happy Exploring!"
   ]
  }
 ],
 "metadata": {
  "kernelspec": {
   "display_name": "Python 3 (ipykernel)",
   "language": "python",
   "name": "python3"
  },
  "language_info": {
   "codemirror_mode": {
    "name": "ipython",
    "version": 3
   },
   "file_extension": ".py",
   "mimetype": "text/x-python",
   "name": "python",
   "nbconvert_exporter": "python",
   "pygments_lexer": "ipython3",
   "version": "3.10.5"
  }
 },
 "nbformat": 4,
 "nbformat_minor": 5
}
