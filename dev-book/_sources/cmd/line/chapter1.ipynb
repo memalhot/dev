{
 "cells": [
  {
   "cell_type": "markdown",
   "id": "c20bffe2-d852-4b42-9c80-e43dbe8ebc45",
   "metadata": {},
   "source": [
    "# Adventures in the Command Line"
   ]
  },
  {
   "cell_type": "markdown",
   "id": "5942212f-37f3-418e-b3cb-d852552e32cc",
   "metadata": {},
   "source": [
    "\n",
    "## An Introduction to IDEs\n",
    "\n",
    "When most people start programming, they do it on an integrated development environment or IDE. An example of an IDE you may have used is VSCode, IntelliJ, Spyder. An IDE is a collection of software that integrates essential tools for software development into a unified interface. It usually includes things like a source code editor with features like syntax highlighting, local build automation tools for compiling, a terminal, and a debugger for identifying and fixing bugs in the code. By combining these functionalities within a single interface, IDEs make it really easy to develop code and build applications. You can run and build code with a button, you don't need to think about compiling your code, and you can save code without having to use a version control system like Git (more on that later). But as the scale of development gets bigger, you might need more than an IDE.\n",
    "\n",
    "And that's where the command line comes in!"
   ]
  },
  {
   "cell_type": "markdown",
   "id": "7be097d8-e9a2-4491-9e9e-ccf456698754",
   "metadata": {},
   "source": [
    "Here's an example of an IDE, VSCode\n",
    "\n",
    "![vscodepicture](./images/src/vscode.png)\n",
    "\n",
    "Source: https://code.visualstudio.com/updates/v1_58"
   ]
  },
  {
   "cell_type": "markdown",
   "id": "8021cc3b",
   "metadata": {},
   "source": [
    "The command line, or terminal is a way to interact with your computer. It's often called a command-line interface (CLI) or shell. Let's go through a break\n",
    "\n",
    "1. **Text Interface**: Unlike graphical user interfaces (GUIs), which use windows, icons, and menus, terminals operate purely through text input and output. Users  can interact with the system by typing commands and reading text responses.\n",
    "\n",
    "2. **Shell**: The shell is a program that interprets commands entered by the user and executes them. Popular shells include Bash (Bourne Again Shell), Zsh (Z Shell), and PowerShell (for Windows).\n",
    "\n",
    "3. **Commands**: Users type commands into the terminal to perform various tasks such as navigating the file system, managing files, running programs, and configuring system settings.\n",
    "\n",
    "4. **File System Navigation**: Users can navigate through directories and manipulate files using commands like `cd` (change directory), `ls` (list directory contents), `mkdir` (make directory), `rm` (remove files or directories), etc. You don't need to open up things manually with your command line, you can just navigate through typing - no need for your mouse! Many experienced programmers pride themselves on their ability to navigate their development environments without having to lift their fingers for aything but typing, increasing their programming efficiency.\n",
    "\n",
    "5. **Scripting and Automation**: Terminals are powerful for automation and scripting tasks. Users can write scripts (sequences of commands) to perform repetitive tasks, manage system configurations, or automate software deployment. You can customize your system, especially with operating systems like Linux, to make your computer system work for you!\n",
    "\n",
    "6. **Remote Access**: Terminals are commonly used for remote access to servers and computers. Secure Shell (SSH) is a protocol that allows users to log in to a remote system securely via a terminal. This can also be useful when you want to access other code bases, (when we get into our git chapter, we can look at how to access other people's code bases with ssh). This is important for the collaboration needed in large scale projects!\n",
    "\n",
    "7. **System Administration**: System administrators frequently use terminals for managing servers and performing administrative tasks efficiently, especially in headless (no graphical interface) server environments.\n",
    "\n",
    "8. **Customization**: Users can customize their terminal environment with different colors, fonts, and shortcuts to enhance usability and productivity. Or just make things pretty :wink:\n",
    "\n",
    "Terminals provide a really flexible and powerful way to interact with a computer system, especially for tasks that require precise control, automation, and text-based interaction. So let's go through some of the ways you can interact with your terminal!"
   ]
  },
  {
   "cell_type": "markdown",
   "id": "37b1dff8",
   "metadata": {},
   "source": [
    "![image.png](images/src/redhatterminal.png)\n",
    "\n",
    "Here's a stylized version of a terminal\n",
    "\n",
    "Source: https://www.unixsysadmin.com/rhel-9-resources/"
   ]
  },
  {
   "cell_type": "markdown",
   "id": "a97e6639",
   "metadata": {},
   "source": [
    "First open up a terminal. This is done differently on different computer systems, but most have an app to access your terminal!"
   ]
  }
 ],
 "metadata": {
  "kernelspec": {
   "display_name": "Python 3 (ipykernel)",
   "language": "python",
   "name": "python3"
  },
  "language_info": {
   "codemirror_mode": {
    "name": "ipython",
    "version": 3
   },
   "file_extension": ".py",
   "mimetype": "text/x-python",
   "name": "python",
   "nbconvert_exporter": "python",
   "pygments_lexer": "ipython3",
   "version": "3.10.5"
  }
 },
 "nbformat": 4,
 "nbformat_minor": 5
}
