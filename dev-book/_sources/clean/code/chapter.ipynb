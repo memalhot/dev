{
 "cells": [
  {
   "cell_type": "markdown",
   "id": "5942212f-37f3-418e-b3cb-d852552e32cc",
   "metadata": {},
   "source": [
    "# Writing Squeaky Clean Code\n",
    "\n",
    "## Introduction\n",
    "\n",
    "Welcome to the essential guide to clean coding standards. Writing clean code is not just about making your code work; it’s about making it understandable, maintainable, and efficient. This chapter will cover the core principles and practices that will help you write clean and professional code. New programmers are often exposed to the new skill of reading and debugging code that isn’t their own, and writing cleaner code helps developers work better together.\n",
    "\n",
    "In school, you often write singular functions, avoiding many functions that work together or definining functions yourself. It is important that before you start writing code, to make sure you sit down and plan out how to break down the problems you're dealing with into smaller problems that can be defined as functions. But once you're done planning, here are some good rules to follow while writing code in a proffessional or open source setting.\n",
    "\n",
    "![cleancode](../../images/src/clean.png)\n",
    "\n",
    "Image Source:  https://medium.com/geekculture/principles-mindset-of-clean-code-be-a-better-programmer-a700d64abee1\n",
    "\n",
    "## Naming Conventions aka The Art of Naming\n",
    "\n",
    "Variables should be named in a way that clearly describes their purpose. Avoid vague or generic names. For example, use `totalAmount` instead of `t` or `temp`. Descriptive names enhance readability and make your code easier to understand. Try to step out of yourself and see if a stranger could understand what your variables mean!\n",
    "\n",
    "Function names should clearly convey their purpose. A function named `calculateTotalAmount()` is much more informative than one named `doTask()`. Functions should perform a single, well-defined action. (Pro tip: single and well defined is a good rule of thumb when planning your code). This not only makes them easier to test but also simplifies debugging and maintenance.\n"
   ]
  },
  {
   "cell_type": "markdown",
   "id": "f12ae0f0",
   "metadata": {},
   "source": [
    "\n",
    "## Function Design\n",
    "\n",
    "A function should do one thing and do it well. If a function is doing too much, consider breaking it down into smaller, more focused functions. This makes your code more modular and easier to test. And think about lengh when writing your functions- keep 'em short! Long functions can be difficult for other people to understand and maintain. Try to keep functions within a screen’s length so that they can be viewed without scrolling.\n",
    "\n",
    "## Class Design\n",
    "\n",
    "Just like functions, classes should have a single responsibility. They should encapsulate related data and methods that operate on that data. Avoid turning a class into a \"god object\" that does everything. Are you sensing a pattern about single responsibility, yet? And, in the same vein, try to ensure that all parts of a class are related to the funcion's purpose. Cohesion within a class means that its methods and variables are closely related, making the class easier to understand and maintain.\n",
    "\n",
    "## Comments and Documentation\n",
    "\n",
    "Use comments to explain why something is done, not what is done. Don't restate the obvious, focus more on the intention rather than the purpose of certain syntax. Well-written code should be self-explanatory, but comments can provide context or rationale behind complex logic. You can also use comments to remind or share with your collaborators that something may not be fully implemented.\n",
    "\n",
    "An example of a reduntant comments would be:\n"
   ]
  },
  {
   "cell_type": "code",
   "execution_count": null,
   "id": "7b697d5b",
   "metadata": {},
   "outputs": [],
   "source": [
    "class Cat:\n",
    "    def __init__(self, name, age, breed):\n",
    "        self.name = name\n",
    "        self.age = age\n",
    "        self.breed = breed\n",
    "    \n",
    "    def introduce(self):\n",
    "        #return a string\n",
    "        return f\"My name is {self.name}. I am {self.age} years old, and I am a {self.breed}.\"\n",
    "\n",
    "    def age(self):\n",
    "        #add one to age\n",
    "        self.age = self.age + 1\n",
    "        return self.age\n",
    "\n",
    "my_cat = Cat(\"Luna\", 3, \"English Shorthair\")\n",
    "\n",
    "print(my_cat.introduce())\n"
   ]
  },
  {
   "cell_type": "markdown",
   "id": "59e708be",
   "metadata": {},
   "source": [
    "Though this code is pretty simple, the comments don't help us increase our understanding. Can you think of some better ways to write these comments?"
   ]
  },
  {
   "cell_type": "code",
   "execution_count": null,
   "id": "66a510fd",
   "metadata": {},
   "outputs": [],
   "source": [
    "class Cat:\n",
    "    def __init__(self, name, age, breed):\n",
    "        self.name = name\n",
    "        self.age = age\n",
    "        self.breed = breed\n",
    "    \n",
    "    #introduce cat object so user knows the name of cat\n",
    "    def introduce(self):\n",
    "        return f\"My name is {self.name}. I am {self.age} years old, and I am a {self.breed}.\"\n",
    "\n",
    "    #age up the cat object by a year to show birthday has passed\n",
    "    def age(self):\n",
    "        self.age = self.age + 1\n",
    "\n",
    "my_cat = Cat(\"Cookie\", 3, \"Tabby\")\n",
    "\n",
    "print(my_cat.introduce())"
   ]
  },
  {
   "cell_type": "markdown",
   "id": "15b5f67f",
   "metadata": {},
   "source": [
    "These comment do a better job of expressing the purpose of the code, rather than reduntantly explaining code sytax."
   ]
  },
  {
   "cell_type": "markdown",
   "id": "158929a8",
   "metadata": {},
   "source": [
    "\n",
    "### Documentation\n",
    "\n",
    "Maintain clear and concise documentation for your codebase. This includes inline comments, function and class descriptions, and external documentation. Good documentation helps others (and your future self!) understand and use your code effectively.\n"
   ]
  },
  {
   "cell_type": "markdown",
   "id": "02061fb8",
   "metadata": {},
   "source": [
    "\n",
    "## Code Consistency and Style\n",
    "\n",
    "Adhere to a consistent style guide throughout your codebase. That means making sure your naming conventions, indentation, spacing, and other formatting rules are consistent throughout your code base, sometimes this means adapting to someone else's coding style. Consistency makes your code more predictable and easier to read.\n",
    "\n",
    "One way to do this is to use linting. Linters help to enforce coding standards and catch potential issues early. They do this by automatically checking if you're adhering to style guides, and they highlight common errors (we all miss semicolons, brackets, and commas sometimes), and doing this improves overall code quality. They can also increase turn-around in code review time, making sure when your code review is focused on logic and not silly errors like misspellings or forgotten parenthesis.\n",
    "\n",
    "Another thing to look out for is code duplication! You can avoid code duplication by refactoring common logic into functions or classes. Duplicated code increases the risk of bugs and makes maintenance harder. It also makes your life easier, and code more readable! Save yourself the time and effort. A good rule of thumb is not to write the same code twice.\n",
    "\n",
    "Long parameter lists can be confusing and more prone to error. If you want to group things together, try using objects or structures to group related parameters, so your function calls are more readable\n",
    "\n",
    "Lastly, try to avoid using hard-coded numbers or \"magic numbers\" in your code. For example, instead of using `365`, try using `DAYS_IN_YEAR` to clarify what it's doing and make your code more flexible.\n"
   ]
  },
  {
   "cell_type": "markdown",
   "id": "e1b81de8",
   "metadata": {},
   "source": [
    "![image.png](../../images/src/comments.png)\n",
    "\n",
    "Source: https://stackoverflow.blog/2021/12/23/best-practices-for-writing-code-comments/"
   ]
  },
  {
   "cell_type": "markdown",
   "id": "d6a75f8f",
   "metadata": {},
   "source": [
    "\n",
    "## Importance of Testing\n",
    "\n",
    "Testing is crucial for ensuring code reliability. Write unit tests to verify individual functions and integration tests to ensure that different parts of your system work together correctly. Automated tests can catch errors early, reducing the risk of bugs in production. \n",
    "\n",
    "Some things to focus on when testing could be checking if the data is empty or null, if there are invalid inputs or outputs, checking if data is too large to handle, or too small to take in. Pay attention to special characters as well. Try thinking like a user who often makes mistakes! Does double clicking on a button duplicate an entry in a database? If you change your workflow on your product and use commands in the order they’re not usually done, does it change the outcome? Try to break your code when you test!\n",
    "\n",
    "Aim for high test coverage, but prioritize critical paths and core functionalities. Comprehensive testing increases confidence in your code and simplifies future changes and refactoring. \n",
    "\n",
    "Here are some example tests for a Java class called BigInt, whose job is to find the biggest integer in a list:"
   ]
  },
  {
   "cell_type": "markdown",
   "id": "55bbf3f7",
   "metadata": {},
   "source": [
    "```\n",
    "public static void main(String[] args) {\n",
    "\n",
    "    System.out.println(\"Unit tests for the BigInt class.\");\n",
    "    System.out.println();\n",
    "    \n",
    "    // Test 2: Printing BigInt object b1\n",
    "    System.out.println(\"Test 2: result should be 1234567\");\n",
    "    int[] a1 = {1, 2, 3, 4, 5, 6, 7};\n",
    "    BigInt b1 = new BigInt(a1);\n",
    "    System.out.println(b1.toString());\n",
    "    System.out.println();\n",
    "\n",
    "    // Test 3: Printing BigInt object b2 (all zeros)\n",
    "    System.out.println(\"Test 3: result should be 0\"); \n",
    "    int[] a2 = new int[20]; // array of zeros\n",
    "    BigInt b2 = new BigInt(a2);\n",
    "    System.out.println(b2);\n",
    "    System.out.println();\n",
    "\n",
    "    // Test 4: Testing for IllegalArgumentException\n",
    "    System.out.println(\"Test 4: should throw an IllegalArgumentException\");\n",
    "    try {\n",
    "        int[] a3 = {0, 0, 0, 0, 23, 0, 0, 0, 0, 0, 0, 0, 0, 0, 0, 0, 0, 0, 0, 0}; // invalid input\n",
    "        BigInt b3 = new BigInt(a3);\n",
    "        System.out.println(\"Test failed: Expected IllegalArgumentException was not thrown.\");\n",
    "    } catch (IllegalArgumentException e) {\n",
    "        System.out.println(\"Test passed: IllegalArgumentException thrown as expected.\");\n",
    "    } catch (Exception e) {\n",
    "        System.out.println(\"Test failed: Threw wrong type of exception.\");\n",
    "    }\n",
    "    System.out.println();\n",
    "}\n",
    "\n",
    "```"
   ]
  },
  {
   "cell_type": "markdown",
   "id": "706e0153",
   "metadata": {},
   "source": [
    "You can see these tests focus on edge cases, yes, your code's main functionality should work, but what if the user inputs something that they aren't supposed to? What if they input really large numbers, or really small numbers? What if they input the wrong data type? The tests above are only a short amount of tests that you might want to explore. Ensure the the tests have a large number of cases, and try to break your code! \n",
    "\n",
    "The best approach is to think like a user, or for an even better approach- a monkey with no idea what it's doing. The best kind of code can be used by anyone!"
   ]
  },
  {
   "cell_type": "markdown",
   "id": "5af15ff8",
   "metadata": {},
   "source": [
    "\n",
    "Unit tests can also serve as documentation in some ways, looking at unit tests can help you understand what code someone else is doing, and should evolve with your code!"
   ]
  },
  {
   "cell_type": "markdown",
   "id": "b68e2a7d",
   "metadata": {},
   "source": [
    "\n",
    "## Conclusion\n",
    "\n",
    "Clean code is the foundation of effective software development. By following these best practices and standards, you can write code that is not only functional but also readable, maintainable, and robust. Embrace these principles to improve your coding skills, and contribute to higher-quality software projects. \n",
    "\n",
    "Happy Coding!"
   ]
  }
 ],
 "metadata": {
  "kernelspec": {
   "display_name": "Python 3 (ipykernel)",
   "language": "python",
   "name": "python3"
  },
  "language_info": {
   "codemirror_mode": {
    "name": "ipython",
    "version": 3
   },
   "file_extension": ".py",
   "mimetype": "text/x-python",
   "name": "python",
   "nbconvert_exporter": "python",
   "pygments_lexer": "ipython3",
   "version": "3.10.5"
  }
 },
 "nbformat": 4,
 "nbformat_minor": 5
}
