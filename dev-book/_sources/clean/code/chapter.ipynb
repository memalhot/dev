{
 "cells": [
  {
   "cell_type": "markdown",
   "id": "5942212f-37f3-418e-b3cb-d852552e32cc",
   "metadata": {},
   "source": [
    "# Writing Squeaky Clean Code\n",
    "\n",
    "## Introduction\n",
    "\n",
    "Welcome to the essential guide to clean coding standards. Writing clean code is not just about making your code work; it’s about making it understandable, maintainable, and efficient. This chapter will cover the core principles and practices that will help you write clean and professional code. New programmers are often exposed to the new skill of reading and debugging code that isn’t their own, and writing cleaner code helps developers work better together.\n",
    "\n",
    "In school, you often write singular functions, avoiding many functions that work together or definining functions yourself. It is important that before you start writing code, to make sure you sit down and plan out how to break down the problems you're dealing with into smaller problems that can be defined as functions. But once you're done planning, here are some good rules to follow while writing code in a proffessional or open source setting.\n",
    "\n",
    "## Naming Conventions aka The Art of Naming\n",
    "\n",
    "### Variables\n",
    "\n",
    "Variables should be named in a way that clearly describes their purpose. Avoid vague or generic names. For example, use `totalAmount` instead of `t` or `temp`. Descriptive names enhance readability and make your code easier to understand. Try to step out of yourself and see if a stranger could understand what your variables mean!\n",
    "\n",
    "### Functions\n",
    "\n",
    "Function names should clearly convey their purpose. A function named `calculateTotalAmount()` is much more informative than one named `doTask()`. Functions should perform a single, well-defined action. (Pro tip: single and well defined is a good rule of thumb when planning your code). This not only makes them easier to test but also simplifies debugging and maintenance.\n"
   ]
  },
  {
   "cell_type": "markdown",
   "id": "94465d8a",
   "metadata": {},
   "source": [
    "![cleancode](../../images/src/clean.png)\n",
    "\n",
    "Source:  https://medium.com/geekculture/principles-mindset-of-clean-code-be-a-better-programmer-a700d64abee1\n"
   ]
  },
  {
   "cell_type": "markdown",
   "id": "f12ae0f0",
   "metadata": {},
   "source": [
    "\n",
    "## Function Design\n",
    "\n",
    "### Single Responsibility Principle\n",
    "\n",
    "A function should do one thing and do it well. If a function is doing too much, consider breaking it down into smaller, more focused functions. This makes your code more modular and easier to test.\n",
    "\n",
    "### Length\n",
    "\n",
    "Try to keep functions short. Long functions can be difficult to understand and maintain. Try to keep functions within a screen’s length so that they can be viewed without scrolling.\n",
    "\n",
    "## Class Design\n",
    "\n",
    "### Single Responsibility Principle\n",
    "\n",
    "Just like functions, classes should have a single responsibility. They should encapsulate related data and methods that operate on that data. Avoid turning a class into a \"god object\" that does everything. Are you sensing a pattern about single responsibility, yet?\n",
    "\n",
    "### Cohesion\n",
    "\n",
    "Make sure that all parts of a class are related to its primary purpose. High cohesion within a class means that its methods and variables are closely related, making the class easier to understand and maintain.\n",
    "\n",
    "## Comments and Documentation\n",
    "\n",
    "### Purposeful Comments\n",
    "\n",
    "Use comments to explain why something is done, not what is done. Don't restate the obvious, focus more on the intention rather than the purpose of certain syntax. Well-written code should be self-explanatory, but comments can provide context or rationale behind complex logic. You can also use comments to remind or share with your collaborators that something may not be fully implemented.\n",
    "\n",
    "An example of a reduntant comments would be:\n"
   ]
  },
  {
   "cell_type": "code",
   "execution_count": null,
   "id": "7b697d5b",
   "metadata": {},
   "outputs": [],
   "source": [
    "class Cat:\n",
    "    def __init__(self, name, age, breed):\n",
    "        self.name = name\n",
    "        self.age = age\n",
    "        self.breed = breed\n",
    "    \n",
    "    def introduce(self):\n",
    "        #return a string\n",
    "        return f\"My name is {self.name}. I am {self.age} years old, and I am a {self.breed}.\"\n",
    "\n",
    "    def age(self):\n",
    "        #add one to age\n",
    "        self.age = self.age + 1\n",
    "        return self.age\n",
    "\n",
    "my_cat = Cat(\"Luna\", 3, \"English Shorthair\")\n",
    "\n",
    "print(my_cat.introduce())\n"
   ]
  },
  {
   "cell_type": "markdown",
   "id": "59e708be",
   "metadata": {},
   "source": [
    "Though this code is pretty simple, the comments don't help us increase our understanding. Can you think of some better ways to write these comments?"
   ]
  },
  {
   "cell_type": "code",
   "execution_count": null,
   "id": "66a510fd",
   "metadata": {},
   "outputs": [],
   "source": [
    "class Cat:\n",
    "    def __init__(self, name, age, breed):\n",
    "        self.name = name\n",
    "        self.age = age\n",
    "        self.breed = breed\n",
    "    \n",
    "    #introduce cat object so user knows the name of cat\n",
    "    def introduce(self):\n",
    "        return f\"My name is {self.name}. I am {self.age} years old, and I am a {self.breed}.\"\n",
    "\n",
    "    #age up the cat object by a year to show birthday has passed\n",
    "    def age(self):\n",
    "        self.age = self.age + 1\n",
    "\n",
    "my_cat = Cat(\"Cookie\", 3, \"Tabby\")\n",
    "\n",
    "print(my_cat.introduce())"
   ]
  },
  {
   "cell_type": "markdown",
   "id": "15b5f67f",
   "metadata": {},
   "source": [
    "These comment do a better job of expressing the purpose of the code, rather than reduntantly explaining code sytax."
   ]
  },
  {
   "cell_type": "markdown",
   "id": "158929a8",
   "metadata": {},
   "source": [
    "\n",
    "### Documentation\n",
    "\n",
    "Maintain clear and concise documentation for your codebase. This includes inline comments, function and class descriptions, and external documentation. Good documentation helps others (and your future self) understand and use your code effectively.\n"
   ]
  },
  {
   "cell_type": "markdown",
   "id": "02061fb8",
   "metadata": {},
   "source": [
    "\n",
    "## Code Consistency\n",
    "\n",
    "### Style Guides\n",
    "\n",
    "Adhere to a consistent style guide throughout your codebase. That means making sure your naming conventions, indentation, spacing, and other formatting rules are consistent throughout your code base, sometimes this means adapting to someone else's coding styles. Consistency makes your code more predictable and easier to read.\n",
    "\n",
    "### Linting\n",
    "\n",
    "Use linters to enforce coding standards and catch potential issues early. Linters can automatically check for adherence to style guides and highlight common errors, improving overall code quality. They can also increase turn-around in code review time, making sure when your code review is focused on logic and not silly errors like misspellings or forgotten paraenthesis. \n",
    "\n",
    "## Identifying and Avoiding Code Smells \n",
    "\"Code smell\" refers to certain patterns or structures in code that indicate potential problems or areas where the code could be improved. It doesn't necessarily mean the code is incorrect or buggy, but rather that there might be a deeper issue that could lead to problems in the future or make the code harder to maintain or understand.\n",
    "\n",
    "### Duplicated Code\n",
    "\n",
    "Avoid code duplication by refactoring common logic into functions or classes. Duplicated code increases the risk of bugs and makes maintenance harder. It also makes your life easier, and code more readable! Save yourself the time and effort. A good rule of thumb is not to write the same code twice.\n",
    "\n",
    "### Long Parameter Lists\n",
    "\n",
    "Long parameter lists can be confusing and error-prone. Use objects or structures to group related parameters, simplifying function signatures and making calls more readable.\n",
    "\n",
    "### Magic Numbers\n",
    "\n",
    "Avoid using hard-coded numbers in your code. Instead, use named constants to give meaningful context. For example, replace `365` with `DAYS_IN_YEAR` to clarify its purpose.\n"
   ]
  },
  {
   "cell_type": "markdown",
   "id": "e1b81de8",
   "metadata": {},
   "source": [
    "![image.png](../../images/src/comments.png)\n",
    "\n",
    "Source: https://stackoverflow.blog/2021/12/23/best-practices-for-writing-code-comments/"
   ]
  },
  {
   "cell_type": "markdown",
   "id": "d6a75f8f",
   "metadata": {},
   "source": [
    "\n",
    "## Testing\n",
    "\n",
    "### Importance of Testing\n",
    "\n",
    "Testing is crucial for ensuring code reliability. Write unit tests to verify individual functions and integration tests to ensure that different parts of your system work together correctly. Automated tests can catch errors early, reducing the risk of bugs in production. \n",
    "\n",
    "### Test Focus\n",
    "Some things to focus on when testing when dealing with inputs and outputs could be if data is  empty or null, invalid inputs, or outputs that are too large, too small, or have special characters. Try thinking like a user who often makes mistakes! Does double clicking on a button duplicate an entry in a database? If you do actions on your product not in the order they’re usually done, does it change the outcome? Try to break your code when you test!\n",
    "\n",
    "\n",
    "### Test Coverage\n",
    "\n",
    "Aim for high test coverage, but prioritize critical paths and core functionalities. Comprehensive testing increases confidence in your code and simplifies future changes and refactoring. \n",
    "\n",
    "Here are some example tests for a Java class called BigInt, who's job is to find the biggest integer in a list:"
   ]
  },
  {
   "cell_type": "markdown",
   "id": "55bbf3f7",
   "metadata": {},
   "source": [
    "```\n",
    "public static void main(String[] args) {\n",
    "\n",
    "    System.out.println(\"Unit tests for the BigInt class.\");\n",
    "    System.out.println();\n",
    "    \n",
    "    // Test 2: Printing BigInt object b1\n",
    "    System.out.println(\"Test 2: result should be 1234567\");\n",
    "    int[] a1 = {1, 2, 3, 4, 5, 6, 7};\n",
    "    BigInt b1 = new BigInt(a1);\n",
    "    System.out.println(b1.toString());\n",
    "    System.out.println();\n",
    "\n",
    "    // Test 3: Printing BigInt object b2 (all zeros)\n",
    "    System.out.println(\"Test 3: result should be 0\"); \n",
    "    int[] a2 = new int[20]; // array of zeros\n",
    "    BigInt b2 = new BigInt(a2);\n",
    "    System.out.println(b2);\n",
    "    System.out.println();\n",
    "\n",
    "    // Test 4: Testing for IllegalArgumentException\n",
    "    System.out.println(\"Test 4: should throw an IllegalArgumentException\");\n",
    "    try {\n",
    "        int[] a3 = {0, 0, 0, 0, 23, 0, 0, 0, 0, 0, 0, 0, 0, 0, 0, 0, 0, 0, 0, 0}; // invalid input\n",
    "        BigInt b3 = new BigInt(a3);\n",
    "        System.out.println(\"Test failed: Expected IllegalArgumentException was not thrown.\");\n",
    "    } catch (IllegalArgumentException e) {\n",
    "        System.out.println(\"Test passed: IllegalArgumentException thrown as expected.\");\n",
    "    } catch (Exception e) {\n",
    "        System.out.println(\"Test failed: Threw wrong type of exception.\");\n",
    "    }\n",
    "    System.out.println();\n",
    "}\n",
    "\n",
    "```"
   ]
  },
  {
   "cell_type": "markdown",
   "id": "706e0153",
   "metadata": {},
   "source": [
    "You can see this tests focus on edge cases, yes your code's main functionality should work, but what if the user inputs something that they aren't supposed to? What if they input really large numbers, or really small numbers? What if they input the wrong data type? The tests above are only a short amount of tests that you might want to explore. Ensure the the tests have a large number of cases, and try to break your code! The best approach is to think like a user, or for an even better approach- a monkey with no idea what it's doing. The best kind of code can be used by anyone!"
   ]
  },
  {
   "cell_type": "markdown",
   "id": "5af15ff8",
   "metadata": {},
   "source": [
    "\n",
    "```{Pro Tip}\n",
    "Unit tests can also serve as documentation in some ways, looking at unit tests can help you understand what code someone else is doing, and should evolve with your code!\n",
    "```"
   ]
  },
  {
   "cell_type": "markdown",
   "id": "b68e2a7d",
   "metadata": {},
   "source": [
    "\n",
    "## Conclusion\n",
    "\n",
    "Clean code is the foundation of effective software development. By following these best practices and standards, you can write code that is not only functional but also readable, maintainable, and robust. Embrace these principles to improve your coding skills, and contribute to higher-quality software projects. Happy Coding!"
   ]
  }
 ],
 "metadata": {
  "kernelspec": {
   "display_name": "Python 3 (ipykernel)",
   "language": "python",
   "name": "python3"
  },
  "language_info": {
   "codemirror_mode": {
    "name": "ipython",
    "version": 3
   },
   "file_extension": ".py",
   "mimetype": "text/x-python",
   "name": "python",
   "nbconvert_exporter": "python",
   "pygments_lexer": "ipython3",
   "version": "3.10.5"
  }
 },
 "nbformat": 4,
 "nbformat_minor": 5
}
