{
 "cells": [
  {
   "cell_type": "markdown",
   "id": "c20bffe2-d852-4b42-9c80-e43dbe8ebc45",
   "metadata": {},
   "source": [
    "# Demystifying Regex"
   ]
  },
  {
   "cell_type": "markdown",
   "id": "5942212f-37f3-418e-b3cb-d852552e32cc",
   "metadata": {},
   "source": [
    "Regular expressions, often also refered to as regex or regexp, are tools many progrmmers use for pattern matching and text manipulation. They provide a concise and flexible syntax for describing complex patterns within strings of text. They can be scary to look at first, but once you understand them, they can be a powerful tool. They're often used for things like email validation or to search for particular things with tools like grep.\n",
    "Here's an example with how emails can be constructed with regex."
   ]
  },
  {
   "cell_type": "markdown",
   "id": "56681c62",
   "metadata": {},
   "source": [
    "![image.png](../../images/src/regex.png)\n",
    "\n",
    "Source: https://paulvanderlaken.com/2017/10/03/regular-expressions-in-r-part-1-introduction-and-base-r-functions/"
   ]
  },
  {
   "cell_type": "markdown",
   "id": "c2f5b6d4",
   "metadata": {},
   "source": [
    "## Code Examples"
   ]
  },
  {
   "cell_type": "markdown",
   "id": "e4cb01ee",
   "metadata": {},
   "source": [
    "Here's how that would look in python after importing the built-in package, re:"
   ]
  },
  {
   "cell_type": "code",
   "execution_count": null,
   "id": "ffe636ef",
   "metadata": {},
   "outputs": [],
   "source": [
    "import re\n",
    "\n",
    "def extract_emails(text):\n",
    "    #creare the regex pattern for matching email addresses\n",
    "    pattern = r'\\b[A-Za-z0-9._%+-]+@[A-Za-z0-9.-]+\\.[A-Z|a-z]{2,}\\b'\n",
    "\n",
    "    #find all matches of the pattern in the text\n",
    "    matches = re.findall(pattern, text)\n",
    "\n",
    "    return matches\n",
    "\n",
    "#sample text with email addresses\n",
    "sample_text = \"\"\"\n",
    "Hello, my email address is john.doe@cats.com.\n",
    "You can also reach me at janelovescats@gmail.com.\n",
    "\"\"\"\n",
    "\n",
    "#find email addresses from the sample text\n",
    "emails = extract_emails(sample_text)\n",
    "\n",
    "#print the extracted email addresses\n",
    "for email in emails:\n",
    "    print(email)\n"
   ]
  },
  {
   "cell_type": "markdown",
   "id": "074c364a",
   "metadata": {},
   "source": [
    "Here's how it would look in JavaScript:"
   ]
  },
  {
   "cell_type": "markdown",
   "id": "f559d681",
   "metadata": {
    "vscode": {
     "languageId": "javascript"
    }
   },
   "source": [
    "```\n",
    "function extractEmails(text) {\n",
    "    //define the regex pattern for matching email addresses\n",
    "    var pattern = /\\b[A-Za-z0-9._%+-]+@[A-Za-z0-9.-]+\\.[A-Za-z]{2,}\\b/g;\n",
    "\n",
    "    //find all matches of the pattern in the text\n",
    "    var matches = text.match(pattern);\n",
    "\n",
    "    return matches;\n",
    "}\n",
    "\n",
    "//text containing email addresses\n",
    "var sampleText = \"Hello, my email address is john.doe@regex.com.\n",
    "You can also reach me at janeregex@textbook.com.\";\n",
    "\n",
    "//find email addresses\n",
    "var emails = extractEmails(sampleText);\n",
    "\n",
    "//print the extracted email addresses\n",
    "for (var i = 0; i < emails.length; i++) {\n",
    "    console.log(emails[i]);\n",
    "}\n",
    "```"
   ]
  },
  {
   "cell_type": "markdown",
   "id": "32a81dd0",
   "metadata": {},
   "source": [
    "... and in Perl:"
   ]
  },
  {
   "cell_type": "markdown",
   "id": "4d62ae5d",
   "metadata": {
    "vscode": {
     "languageId": "perl"
    }
   },
   "source": [
    "```\n",
    "use strict;\n",
    "use warnings;\n",
    "\n",
    "sub extract_emails {\n",
    "    my ($text) = @_;\n",
    "\n",
    "    #define the regex pattern for matching email addresses\n",
    "    my $pattern = qr/\\b[A-Za-z0-9._%+-]+@[A-Za-z0-9.-]+\\.[A-Za-z]{2,}\\b/;\n",
    "\n",
    "    #find pattern matches\n",
    "    my @matches = $text =~ /$pattern/g;\n",
    "\n",
    "    return @matches;\n",
    "}\n",
    "\n",
    "#text containing email addresses\n",
    "my $sample_text = <<'END_TEXT';\n",
    "Hello, my email address is john.lovescats@example.com.\n",
    "You can also reach me at janelovesdogs@gmail.com.\n",
    "END_TEXT\n",
    "\n",
    "#taking emails from text\n",
    "my @emails = extract_emails($sample_text);\n",
    "\n",
    "#printing each email\n",
    "foreach my $email (@emails) {\n",
    "    print $email . \"\\n\";\n",
    "}\n",
    "```"
   ]
  },
  {
   "cell_type": "markdown",
   "id": "83318015",
   "metadata": {},
   "source": [
    "Now that we know what regex looks like within the context of programming, let's go through each character and what it means, so you can use regular expressions in your own software!"
   ]
  },
  {
   "cell_type": "markdown",
   "id": "729f1929",
   "metadata": {},
   "source": [
    "1. **Literal Characters**: Regular expressions can contain literal characters, which match themselves in the text. For example, the regular expression `cat` matches the characters \"cat\" in a string.\n",
    "\n",
    "2. **Metacharacters**: Metacharacters are special characters with predefined meanings in regular expressions. Some common metacharacters include:\n",
    "   - `.` (dot/period): Matches any single character except newline - these are often referred to as wildcards\n",
    "   - An example would be:\n",
    "\n",
    "        &nbsp;k.n could match with kitten\n",
    "\n",
    "        &nbsp;c.t could match with cat or can't or ct\n",
    "\n",
    "        &nbsp;Because any character would match with the period"
   ]
  },
  {
   "cell_type": "markdown",
   "id": "0ec2e86d",
   "metadata": {},
   "source": [
    "    \n",
    "   - ```*```: Matches with zero or more occurrences of the previous character or group\n",
    "\n",
    "An example would be:\n",
    "      \n",
    "      cof*ee could match with coffee, cofffee, coffffffffee\n",
    "\n",
    "   - Another example would be:\n",
    "      \n",
    "      ```ca*t``` could match ct\n",
    "\n",
    "---------------------------------------------------------------------------------------------------------------------------------------------------------------------------------------------------------\n",
    "\n",
    "\n",
    "   - `+`: Matches one or more occurrences of the previous character or group\n",
    "   - An example would be: \n",
    "   \n",
    "      ```go+gle``` could match with gogle, google, gooogle, goooogle\n",
    "\n",
    "   - But it would NOT match with ggle beacuse it has to match at least one character, so if you wanted it to match, you would use the * regex metacharacter\n",
    "\n",
    "----------------------------------------------------------------------------------------------------------------------------------------------------------------------------------------------------------\n",
    "\n",
    "   - `?`: Matches zero or one occurrence of the previous character or group\n",
    "   \n",
    "   An example would be:\n",
    "\n",
    "   - `?g` could match with hiking (matching with zero occurances) or it could match with Kellogg\n",
    "\n",
    "\n",
    "-----------------------------------------------------------------------------------------------------------------------------------------------------------------------------------------------------------\n",
    "  \n",
    "   - `^`: Let's the computer know that the match has to begin at the start of the line\n",
    "\n",
    "      An example would be:\n",
    "\n",
    "   Where d is a metacharacter for any digit from 1-9\n",
    "\n",
    "   - ```^\\d{3}``` will match with patterns like \"973\" in \"973-333-7039\"\n",
    "\n",
    "-----------------------------------------------------------------------------------------------------------------------------------------------------------------------------------------------------------\n",
    "   \n",
    "   - `$`: Let's the computer know the match has to begin at the end of the line\n",
    "\n",
    "   An example would be:\n",
    "\n",
    "   - ```$\\d{4}``` will match with patterns like \"7039\" in \"973-333-7039\"\n",
    "\n",
    "-----------------------------------------------------------------------------------------------------------------------------------------------------------------------------------------------------------\n",
    "\n",
    "\n",
    "   - `[ ]`: Defines a character class, matching any single character within the brackets\n",
    "\n",
    "   An example would be:\n",
    "\n",
    "   - `[aeiou]` matches any vowel, and `[0-9]` matches any digit\n",
    "\n",
    "   \n",
    "--------------------------------------------------------------------------------------------------------------------------------------------------------------------------------\n",
    "\n",
    "\n",
    "   - `|`: Acts as a logical OR, allowing alternatives within a pattern\n",
    "\n",
    "   An example would be:\n",
    "\n",
    "   - `cat|kitty` A string that contains either cat or kitty\n",
    "\n",
    "-----------------------------------------------------------------------------------------------------------------------------------------------------------------------------------------------------------\n",
    "\n",
    "3. **Quantifiers**: Quantifiers specify how many occurrences of a character or group should be matched. They can be used with both literal characters and metacharacters. For example:\n",
    "   - `*`: Matches zero or more occurrences\n",
    "   - `+`: Matches one or more occurrences\n",
    "   - `?`: Matches zero or one occurrence\n",
    "   - `{n}`: Matches exactly n occurrences\n",
    "   - `{n,}`: Matches n or more occurrences\n",
    "   - `{n,m}`: Matches between n and m occurrences\n",
    "\n",
    "Here are some bracketing examples:\n",
    "\n",
    "- a{3}\twould match with {aaa}\n",
    "- z{3,6} would match with {zzz, zzzz, zzzzz, zzzzzz}\n",
    "- c{3,}\twould match with {ccc, cccc, cccccc, ...}\n",
    "\n",
    "\n",
    "6. **Grouping and Capturing**: Parentheses `()` are used to group characters or subpatterns together. Groups can be quantified as a whole and can be referred to later in the regular expression or during text replacement operations\n",
    "An example would be:\n",
    "\n",
    "- `(dog|cat)lover` would match with doglover or catlover\n",
    "\n",
    "7. **Escaping**: Some characters have special meanings in regular expressions and need to be escaped if you want to match them literally. For example, if you want to match a literal dot `.`, you need to escape it as `\\.`\n",
    "\n",
    "An example would be:\n",
    "- `[A-Z]{3} [\\d.,]+|[\\d.,]+ [A-Z]{3}`\n",
    "\n",
    "This uses escaping on the d to match a currency and an amount, like USD 4,800.23"
   ]
  },
  {
   "cell_type": "markdown",
   "id": "cff76aef",
   "metadata": {},
   "source": [
    "## Conclusion\n",
    "\n",
    "Regex's versatility ranges from validating input to extracting specific data from large datasets, which can be hugely important in computing, which is a science that is always dealing with data! Here are a couple of sites that you can use to help strengthen your understanding and use of regex!"
   ]
  },
  {
   "cell_type": "markdown",
   "id": "7be097d8-e9a2-4491-9e9e-ccf456698754",
   "metadata": {},
   "source": [
    "Want some more example regexes? Check these out:\n",
    "https://support.google.com/a/answer/1371417?hl=en\n",
    "https://regexr.com/\n",
    "\n",
    "\n",
    "Want to build and test your regex? Here are some great places to do so:\n",
    "https://regex101.com/\n",
    "https://regexr.com/\n",
    "\n",
    "Happy Coding!"
   ]
  }
 ],
 "metadata": {
  "kernelspec": {
   "display_name": "Python 3 (ipykernel)",
   "language": "python",
   "name": "python3"
  },
  "language_info": {
   "codemirror_mode": {
    "name": "ipython",
    "version": 3
   },
   "file_extension": ".py",
   "mimetype": "text/x-python",
   "name": "python",
   "nbconvert_exporter": "python",
   "pygments_lexer": "ipython3",
   "version": "3.12.3"
  }
 },
 "nbformat": 4,
 "nbformat_minor": 5
}
