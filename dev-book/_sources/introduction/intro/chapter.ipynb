{
 "cells": [
  {
   "cell_type": "markdown",
   "id": "c20bffe2-d852-4b42-9c80-e43dbe8ebc45",
   "metadata": {},
   "source": [
    "# Beyond the Classroom: An Introduction"
   ]
  },
  {
   "cell_type": "markdown",
   "id": "5942212f-37f3-418e-b3cb-d852552e32cc",
   "metadata": {},
   "source": [
    "\n",
    "## Introduction\n",
    "\n",
    "In the dynamic world of software development, learning important skills beyond the realms of algorithms and data structures is crucial. This book is for graduates or students who have some background programming, but may have a skill gap between the theory they learned in school and some areas of professional development. This book's goal is to help close that skill gap.\n",
    "\n",
    "This book is apart of the Open Education Project, or OPE, is a project started by Red Hat Research Collaboratory. The project provides an framework for a more open source education, with a containerized lab environment for students to get hands on experience, or the OPE tools which allows people to build and publish their own textbook- on anything they want. This textbook is a small example of it's guiding philosophy, as the OPE project leverages open source at every level- from the data centers it uses to the content of it's textbooks. The OPE project attempts to open source education, allowing for anyone with internet access to share their knowledge, and anyone who wants to contribute, improve, or change the information shared is welcome to via pull request.\n",
    "\n",
    "So, if you have any additions, criticisms, edits, or ideas, feel free to open a pull request on this book!\n",
    "\n",
    "The goal of this textbook is not to be a convententional textbook, it aims to be readable, use direct and clear language, and guide you directly with examples. Each chapter is covers a different area of knowledge that prepares you for a professional development environment. Through case studies and interviews with seasoned software engineers, you'll gain invaluable perspectives and learn from their experiences in the field. This blend of theory and practice equips you with the tools and mindset needed to thrive in an ever evolving software development landscape.\n",
    "\n",
    "So, whether you're deciphering manpages, optimizing your workflow with Git, or writing squeaky clean code, Beyond the Classroom is your companion in learning the skills you need to bridge the gap!\n",
    "\n",
    "A special thanks to:\n",
    "Special thanks"
   ]
  }
 ],
 "metadata": {
  "kernelspec": {
   "display_name": "Python 3 (ipykernel)",
   "language": "python",
   "name": "python3"
  },
  "language_info": {
   "codemirror_mode": {
    "name": "ipython",
    "version": 3
   },
   "file_extension": ".py",
   "mimetype": "text/x-python",
   "name": "python",
   "nbconvert_exporter": "python",
   "pygments_lexer": "ipython3",
   "version": "3.10.5"
  }
 },
 "nbformat": 4,
 "nbformat_minor": 5
}
