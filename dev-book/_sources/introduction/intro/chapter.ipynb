{
 "cells": [
  {
   "cell_type": "markdown",
   "id": "c20bffe2-d852-4b42-9c80-e43dbe8ebc45",
   "metadata": {},
   "source": [
    "# Beyond the Classroom: An Introduction"
   ]
  },
  {
   "cell_type": "markdown",
   "id": "5942212f-37f3-418e-b3cb-d852552e32cc",
   "metadata": {},
   "source": [
    "\n",
    "## Introduction\n",
    "\n",
    "This book is apart of the Open Education Project, or OPE, a project started by Jonathan Appavoo, a systems engineering professor at Boston University and continued and maintained by the Red Hat Research Collaboratory. The project provides an framework for a more open source education, with a containerized lab environment for students to get hands on experience, or the OPE tools which allows people to build and publish their own textbook- on anything they want. This textbook is a small example of it's guiding philosophy, as the OPE project leverages open source at every level- from the data centers it uses to the content of it's textbooks. The OPE project attempts to open source education, allowing for anyone with internet access to share their knowledge, and anyone who wants to contribute, improve, or change the information shared is welcome to via pull request.\n",
    "\n",
    "So, if you have any additions, criticisms, edits, or ideas, feel free to open a pull request on this book!\n",
    "\n",
    "![image.png](../../images/rh.png)\n",
    "\n",
    "The goal of this textbook is not to be a convenentional textbook, it aims to be readable, use direct and clear language, and guide you directly with examples. Each chapter covers a different area of knowledge that prepares you for a professional development environment. Through case studies and interviews with seasoned software engineers, you'll gain invaluable perspectives and learn from their experiences in the field. This blend of theory and practice equips you with the tools and mindset needed to thrive in an ever evolving software development landscape.\n",
    "\n",
    "Special thanks to Sally O'Malley, Christina Xu, and Lily Sturmann for contributing time and knowledge with their interviews. And thank you to V Quidore for their written contributions on the security chapter and man pages chapter, and Naomi Ross for her art on this book's logo. And, finally, thank you to everyone on the OPE team who helped build the software that made this book!\n",
    "\n",
    "![image.png](../../images/image.png)\n"
   ]
  },
  {
   "cell_type": "markdown",
   "id": "520bb8f9",
   "metadata": {},
   "source": [
    "And thanks to you for reading!"
   ]
  }
 ],
 "metadata": {
  "kernelspec": {
   "display_name": "Python 3 (ipykernel)",
   "language": "python",
   "name": "python3"
  },
  "language_info": {
   "codemirror_mode": {
    "name": "ipython",
    "version": 3
   },
   "file_extension": ".py",
   "mimetype": "text/x-python",
   "name": "python",
   "nbconvert_exporter": "python",
   "pygments_lexer": "ipython3",
   "version": "3.10.5"
  }
 },
 "nbformat": 4,
 "nbformat_minor": 5
}
