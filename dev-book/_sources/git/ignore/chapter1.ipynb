{
 "cells": [
  {
   "cell_type": "markdown",
   "id": "c20bffe2-d852-4b42-9c80-e43dbe8ebc45",
   "metadata": {},
   "source": [
    "# Let's Git Started"
   ]
  },
  {
   "cell_type": "markdown",
   "id": "5942212f-37f3-418e-b3cb-d852552e32cc",
   "metadata": {},
   "source": [
    "\n",
    "## Life Before Git\n",
    "\n",
    "Let's start with some history. Before git was invented, most people and companies used a concurrent version systems, or CVS as a way to store track and collaborate on code. CVS was one of the earliest widely used version control systems, first becoming popular in the late 1990s and early 2000s. It was developed to address the need for concurrent access to files among multiple developers working on the same project. CVS allowed developers to check out files, make changes, and commit them back to the central repository. However, CVS had several limitations, particularly in its handling of branching and merging. Branches in CVS were essentially separate directories, making it difficult to manage and merge changes between branches. This limitation became increasingly difficult to work with as projects grew larger, more widespread, and more complex. This problem was deeply felt in the open source community, where people from all over the world contribute to projects.\n",
    "\n",
    "As needs evolved, so did the technology. And in 2005, Linus Torvalds, inventer of linux, began working on a way to tackle these problems. \n",
    "\n",
    "The main difference between the two is that while CVS is centralized, git is a *distributed* system.\n",
    "\n",
    "\n",
    "![image.png](../../images/src/image.png)\n",
    "\n",
    "Source: https://www.atlassian.com/microservices/microservices-architecture/distributed-architecture\n",
    "\n",
    "This provided more connectivity for widespread open source projects due to functions like branching and merging. But we'll go into what those mean later."
   ]
  },
  {
   "cell_type": "markdown",
   "id": "eabb5614",
   "metadata": {},
   "source": [
    "## GIT IS NOT GITHUB\n",
    "Repeat after me:"
   ]
  },
  {
   "cell_type": "code",
   "execution_count": null,
   "id": "ff74334a",
   "metadata": {},
   "outputs": [
    {
     "name": "stdout",
     "output_type": "stream",
     "text": [
      "Git is *not* GitHub!\n"
     ]
    }
   ],
   "source": [
    "print(\"Git is *not* GitHub!\")"
   ]
  },
  {
   "cell_type": "markdown",
   "id": "3ed6878c",
   "metadata": {},
   "source": [
    "## Intro to Git"
   ]
  },
  {
   "cell_type": "markdown",
   "id": "878bfa03",
   "metadata": {},
   "source": [
    "So- then what actually is git? The man page of git describes itself as a \"stupid content tracker\"- in other words - it's a source code management system. It allows for you to add and commit source code to a place where code is saved - a *repository*. Repositories are represented by trees - with one main branch, and many more smaller branches that are different versions of that main code that many different people can work on.\n",
    "\n",
    "\n",
    "![image.png](../../images/src/git1.png)\n",
    "\n",
    "Source: https://www.nobledesktop.com/learn/git/git-branches\n",
    "\n",
    "Why would you need something like branches? Well, sometimes you may want to work on a new feature or bug fix, but want to preserve the current stable version of your code. So, you create a new branch to further your project. And when you're done with your branch, you can merge it into the main branch, or you can even merge it into another branch."
   ]
  },
  {
   "cell_type": "markdown",
   "id": "64d8d56a",
   "metadata": {},
   "source": [
    "In Git's content tracker, there are four main types of objects that play crucial roles in managing project history:\n",
    "\n",
    "1. **Blob objects**: Represent the content of files and are identified by a hash of their content (e.g., 63ae94dae6067d9683cc3a9cea87f8fb388c0e80)\n",
    "\n",
    "2. **Tree objects**: Function like directories, organizing blobs and other tree objects by listing file names along with references to their respective objects\n",
    "\n",
    "3. **Commit objects**: Connect tree objects together, forming a snapshot of the project at a specific point in time. Commits include metadata such as timestamps and log messages, enabling tracking of project development and the ability to revert to previous states\n",
    "\n",
    "4. **Tag objects**: Serve as containers referencing other objects and holding additional metadata. They are commonly used to mark specific points in history, such as release versions or significant milestones\n",
    "\n",
    "Each object is uniquely identified by its hash (think back to that big blob of numbers and letters). Git also uses labels called refs to indicate the locations of commits, like branches, with the HEAD reference pointing to the current branch or commit being worked on, and tags for labeling important points in the project's history.\n",
    "\n",
    "Understanding these objects and labels is essential for grasping Git's version control system and its management of project history. If you wanna read more about Git's object model, check out this link: https://shafiul.github.io/gitbook/1_the_git_object_model.html "
   ]
  },
  {
   "cell_type": "markdown",
   "id": "2ced65a4",
   "metadata": {},
   "source": [
    "![image.png](../../images/src/git2.png)\n",
    "\n",
    "Source: https://git-scm.com/book/en/v2/Git-Internals-Git-References"
   ]
  },
  {
   "cell_type": "markdown",
   "id": "310090f4",
   "metadata": {},
   "source": [
    "Let's go over some common git commands and what they do:\n",
    "\n",
    "To initialze a repository in a folder:\n",
    "First make sure git is downloaded onto your device: https://git-scm.com/book/en/v2/Getting-Started-Installing-Git\n",
    "\n",
    "Once git is set up, cd into the folder you will be working within and type:\n"
   ]
  },
  {
   "cell_type": "markdown",
   "id": "53befcbd",
   "metadata": {
    "vscode": {
     "languageId": "raw"
    }
   },
   "source": [
    "```git init```"
   ]
  },
  {
   "cell_type": "markdown",
   "id": "fae3d08f",
   "metadata": {},
   "source": [
    "If you want to save the code you wrote to your repository, first run the git add command"
   ]
  },
  {
   "cell_type": "markdown",
   "id": "1dcaea34",
   "metadata": {
    "vscode": {
     "languageId": "raw"
    }
   },
   "source": [
    "```git add .```\n",
    "\n",
    "OR \n",
    "\n",
    "```git add kite.py```\n",
    "\n",
    "OR (if you want to add multiple specific files)\n",
    "\n",
    "```git add factorial.py cherry.c battery.md```"
   ]
  },
  {
   "cell_type": "markdown",
   "id": "44d6820f",
   "metadata": {},
   "source": [
    "The period specifies everything in the folder, but if you want to only add a particular part files to what's called the *staging area*, specify the file name\n",
    "\n",
    "![image.png](../../images/src/gitadd.png)\n",
    "\n",
    "Source: https://davedodea.medium.com/git-commands-you-need-to-git-going-b98adc42182e"
   ]
  },
  {
   "cell_type": "markdown",
   "id": "f0a39d43",
   "metadata": {
    "vscode": {
     "languageId": "raw"
    }
   },
   "source": [
    "When you want to move out of the staging area and to the history of your repository, you will want to use git commit!\n",
    "\n",
    "```git commit -m \"this is a comment\"```"
   ]
  },
  {
   "cell_type": "markdown",
   "id": "17986d4f",
   "metadata": {},
   "source": [
    "Commit messages ues -m to attribute a commit message to each commit, a message that explains how you changed your code and why. These messages are important because they provide a lot of necessary context when looking at development history. Knowing what's going on at different points of time in your code can be important if you need to revert back to different versions or if you're collaborating and you want to understand what your team is doing. That's why it's important to right commit messages that are clear and descriptive. We will have a chapter on writing good commit messages in another chapter."
   ]
  },
  {
   "cell_type": "markdown",
   "id": "9dbd08eb",
   "metadata": {},
   "source": [
    "![image.png](../../images/src/git3.png)\n",
    "\n",
    "Source: https://cbea.ms/git-commit/"
   ]
  },
  {
   "cell_type": "markdown",
   "id": "63b67fd1",
   "metadata": {},
   "source": [
    "And finally- when you want to move your source code to github, you use the command"
   ]
  },
  {
   "cell_type": "markdown",
   "id": "de5abf77",
   "metadata": {},
   "source": [
    "An example of what to avoid ;)\n",
    "image credit:"
   ]
  },
  {
   "cell_type": "markdown",
   "id": "d389dd3e",
   "metadata": {
    "vscode": {
     "languageId": "raw"
    }
   },
   "source": [
    "```git push```"
   ]
  },
  {
   "cell_type": "markdown",
   "id": "a875245a",
   "metadata": {},
   "source": [
    "Another important part of github is that it allows you to work collaboratively, which is often done through branching and merging. Git branching is a feature that allows developers to diverge from the main line of development and continue work on parallel tracks. Each branch represents an independent line of development, allowing multiple developers to work on different features simultaneously without interfering with each other's code. Branches are usually merged into the main branch of development, usually called the main branch. Branches, as mentioned before, can be new features or for bug fixes, and are merged into the main branch."
   ]
  },
  {
   "cell_type": "markdown",
   "id": "b1076092",
   "metadata": {},
   "source": [
    "To create a branch, you use the command"
   ]
  },
  {
   "cell_type": "markdown",
   "id": "555e2d44",
   "metadata": {
    "vscode": {
     "languageId": "raw"
    }
   },
   "source": [
    "```git branch new_branch```"
   ]
  },
  {
   "cell_type": "markdown",
   "id": "cda88dda",
   "metadata": {},
   "source": [
    "But note, that only creates the branch, to create a new branch and work on it, run"
   ]
  },
  {
   "cell_type": "markdown",
   "id": "3ee3e72d",
   "metadata": {
    "vscode": {
     "languageId": "raw"
    }
   },
   "source": [
    "```git checkout -b my-branch```\n",
    "\n",
    "OR\n",
    "\n",
    "```git switch -c my-branch```"
   ]
  },
  {
   "cell_type": "markdown",
   "id": "c9caff2e",
   "metadata": {},
   "source": [
    "The checkout command switches you to a new branch, and the -b creates a new branch. And the switch command takes you to a new branch, and the -c creates it. Just like when you program, there are many different ways to approach things you want to accomplish in git!"
   ]
  },
  {
   "cell_type": "markdown",
   "id": "e15b726d",
   "metadata": {},
   "source": [
    "To check what branch you're on, use the command:"
   ]
  },
  {
   "cell_type": "markdown",
   "id": "325ed637",
   "metadata": {
    "vscode": {
     "languageId": "raw"
    }
   },
   "source": [
    "```git branch```"
   ]
  },
  {
   "cell_type": "markdown",
   "id": "1f8e405b",
   "metadata": {},
   "source": [
    "Once you're done working on your branch, you usually want to merge back into the main branch, or into another branch. To do this run"
   ]
  },
  {
   "cell_type": "markdown",
   "id": "30c6d10e",
   "metadata": {
    "vscode": {
     "languageId": "raw"
    }
   },
   "source": [
    "```git checkout bugfix   #switching to the branch with the bug fix```\n",
    "```git merge main      #merge bugfix into main```\n",
    "\n",
    "or\n",
    "\n",
    "```git merge bugfix main```"
   ]
  },
  {
   "cell_type": "markdown",
   "id": "60710bcf",
   "metadata": {},
   "source": [
    "This will merge bugfix into main. Make sure you're on the right branch when you're merging! In some cases, you're merge will happen seamlessly, but what if you are merging two branches that conflict? For example, what if two developers both create a python function that does two of the same thing, implemented in different ways. Another example of what may cause a conflict is if one developer deletes a file that another developer is editing. This conflict that arises during merges called a **merge conflict**. Merge conflicts can be resolved manually by the developer, deciding what implentation they feel is best for the project. Once they are resolved, the developer can commit the merge in the same way they would a code deletion/addition."
   ]
  },
  {
   "cell_type": "markdown",
   "id": "fcd69834",
   "metadata": {
    "vscode": {
     "languageId": "raw"
    }
   },
   "source": [
    "Now that we understand merging and branches, let's look at some more git commands! Let's start with git clone."
   ]
  },
  {
   "cell_type": "markdown",
   "id": "6bb8f4cb",
   "metadata": {},
   "source": [
    "Git clone takes an already existing repository and places it in a new directory. It creates a copy of the existing directory in the new directory. It is especially useful if you're working on someone else's source code.\n",
    "If you find a repository you want to work on on Github, you can use the code button to get an ssh link, which allows you to create a copy of that repository. Just make sure you have ssh set up on your device! The command you would run is "
   ]
  },
  {
   "cell_type": "markdown",
   "id": "a1066105",
   "metadata": {
    "vscode": {
     "languageId": "raw"
    }
   },
   "source": [
    "```git clone git@github.com:your-git-username/the-repo-you-want-to-clone.git```"
   ]
  },
  {
   "cell_type": "markdown",
   "id": "ba403f0c",
   "metadata": {},
   "source": [
    "What if someone contributes to that repository, and you want those changes? You can run"
   ]
  },
  {
   "cell_type": "markdown",
   "id": "21f31e2e",
   "metadata": {
    "vscode": {
     "languageId": "raw"
    }
   },
   "source": [
    "```git pull```"
   ]
  },
  {
   "cell_type": "markdown",
   "id": "9627d5a1",
   "metadata": {},
   "source": [
    "To fetch the new repository changes, and have them locally."
   ]
  },
  {
   "cell_type": "markdown",
   "id": "5c3e6ff5",
   "metadata": {},
   "source": [
    "What if you want to keep track of changes that you've been making? Here are some useful commands you can try out:"
   ]
  },
  {
   "cell_type": "markdown",
   "id": "1e82b6f5",
   "metadata": {
    "vscode": {
     "languageId": "raw"
    }
   },
   "source": [
    "```git status```"
   ]
  },
  {
   "cell_type": "markdown",
   "id": "e5dd8b42",
   "metadata": {},
   "source": [
    "git status is a command that tells you what's in your staged area, a file that shows you what will go into your next commit."
   ]
  },
  {
   "cell_type": "markdown",
   "id": "296e72a1",
   "metadata": {
    "vscode": {
     "languageId": "raw"
    }
   },
   "source": [
    "```git log```"
   ]
  },
  {
   "cell_type": "markdown",
   "id": "23dddef6",
   "metadata": {},
   "source": [
    "git log is a command that gives you your commit history, it prints your commits with their respective hashes, the author of those commits, date of the commit, and the message associated with that commited."
   ]
  },
  {
   "cell_type": "markdown",
   "id": "03b62ebb",
   "metadata": {},
   "source": [
    "![image.png](../../images/src/git.png)\n",
    "\n",
    "Source: https://www.linkedin.com/pulse/git-tutorials-commands-devopsuniversity-ex7pc"
   ]
  },
  {
   "cell_type": "markdown",
   "id": "ce7ba81b",
   "metadata": {},
   "source": [
    "Well... now that we know what git is, what's github?"
   ]
  },
  {
   "cell_type": "markdown",
   "id": "e6417ef4",
   "metadata": {},
   "source": [
    "## Github"
   ]
  },
  {
   "cell_type": "markdown",
   "id": "bac55577",
   "metadata": {},
   "source": [
    "Github is kind of like an extension of git. It is a web based interface that uses the version control system git. Github stores repositories online, and allows for developers to collaborate on projects. If you want to look for different projects to contribute to, publish your code, or simply explore what other people are working on, Github is a great place to get started. As of January 2023, GitHub had over 100 million developers and over 400 million repositories, making it a great place to see what other people are working on. If you're interested in contributing to open source, Github is the place to start.\n",
    "\n",
    "You can connect your local git repositories to Github, and push your personal projects to Github. Your page can be an active living programming portfolio, allowing you to showcase what you're working on. But you can also work on projects that other people have made, you can even contribute to tools you use- like Linux or \n",
    "\n",
    "Understanding git is an important part of working on open source or any collaborative project. If you want to practice some of these git commands and get started with the git workflows you need to work on open source projects, check out this repository: https://github.com/firstcontributions/first-contributions, which is designed for first time open source contributers!\n",
    "\n",
    "Here are some links that are great places to start your Github journey:\n",
    "\n",
    "https://github.com/trending\n",
    "\n",
    "https://github.com/sdras/awesome-actions\n",
    "\n",
    "https://github.com/topics/open-source\n",
    "\n",
    "\n",
    "Happy exploring!"
   ]
  }
 ],
 "metadata": {
  "kernelspec": {
   "display_name": "Python 3 (ipykernel)",
   "language": "python",
   "name": "python3"
  },
  "language_info": {
   "codemirror_mode": {
    "name": "ipython",
    "version": 3
   },
   "file_extension": ".py",
   "mimetype": "text/x-python",
   "name": "python",
   "nbconvert_exporter": "python",
   "pygments_lexer": "ipython3",
   "version": "3.12.3"
  }
 },
 "nbformat": 4,
 "nbformat_minor": 5
}
