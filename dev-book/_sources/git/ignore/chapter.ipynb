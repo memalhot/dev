{
 "cells": [
  {
   "cell_type": "markdown",
   "id": "c20bffe2-d852-4b42-9c80-e43dbe8ebc45",
   "metadata": {},
   "source": [
    "# Using a .gitignore"
   ]
  },
  {
   "cell_type": "markdown",
   "id": "5942212f-37f3-418e-b3cb-d852552e32cc",
   "metadata": {},
   "source": [
    "What is a .gitignore, when do you use one?\n",
    "## Overview\n",
    "\n",
    "A .gitignore is a file, title .gitignore, put in the main directory of your project to ignore certain files and not include them in your final repositories. These can be compiled object files like .o files, whole directories, or .env files that can't be pushed for security reasons."
   ]
  },
  {
   "cell_type": "markdown",
   "id": "ba11c989",
   "metadata": {},
   "source": [
    "Here's an example .gitignore from https://github.com/github/gitignore/tree/main for java programs"
   ]
  },
  {
   "cell_type": "markdown",
   "id": "7be097d8-e9a2-4491-9e9e-ccf456698754",
   "metadata": {
    "vscode": {
     "languageId": "html"
    }
   },
   "source": [
    "\"# Compiled class file\n",
    "*.class\n",
    "\n",
    "# Log file\n",
    "*.log\n",
    "\n",
    "# BlueJ files\n",
    "*.ctxt\n",
    "\n",
    "# Mobile Tools for Java (J2ME)\n",
    ".mtj.tmp/\n",
    "\n",
    "# Package Files #\n",
    "*.jar\n",
    "*.war\n",
    "*.nar\n",
    "*.ear\n",
    "*.zip\n",
    "*.tar.gz\n",
    "*.rar\n",
    "\n",
    "# virtual machine crash logs, see http://www.java.com/en/download/help/error_hotspot.xml\n",
    "hs_err_pid*\n",
    "replay_pid*\""
   ]
  },
  {
   "cell_type": "markdown",
   "id": "3582d03a",
   "metadata": {},
   "source": [
    "...and here's another one from the same repo for python programs"
   ]
  },
  {
   "cell_type": "code",
   "execution_count": null,
   "id": "c1e5f90f",
   "metadata": {
    "vscode": {
     "languageId": "shellscript"
    }
   },
   "outputs": [],
   "source": [
    "# Byte-compiled / optimized / DLL files\n",
    "__pycache__/\n",
    "*.py[cod]\n",
    "*$py.class\n",
    "\n",
    "# C extensions\n",
    "*.so\n",
    "\n",
    "# Distribution / packaging\n",
    ".Python\n",
    "build/\n",
    "develop-eggs/\n",
    "dist/\n",
    "downloads/\n",
    "eggs/\n",
    ".eggs/\n",
    "lib/\n",
    "lib64/\n",
    "parts/\n",
    "sdist/\n",
    "var/\n",
    "wheels/\n",
    "share/python-wheels/\n",
    "*.egg-info/\n",
    ".installed.cfg\n",
    "*.egg\n",
    "MANIFEST\n",
    "\n",
    "# PyInstaller\n",
    "#  Usually these files are written by a python script from a template\n",
    "#  before PyInstaller builds the exe, so as to inject date/other infos into it.\n",
    "*.manifest\n",
    "*.spec\n",
    "\n",
    "# Installer logs\n",
    "pip-log.txt\n",
    "pip-delete-this-directory.txt\n",
    "\n",
    "# Unit test / coverage reports\n",
    "htmlcov/\n",
    ".tox/\n",
    ".nox/\n",
    ".coverage\n",
    ".coverage.*\n",
    ".cache\n",
    "nosetests.xml\n",
    "coverage.xml\n",
    "*.cover\n",
    "*.py,cover\n",
    ".hypothesis/\n",
    ".pytest_cache/\n",
    "cover/\n",
    "\n",
    "# Translations\n",
    "*.mo\n",
    "*.pot\n",
    "\n",
    "# Django stuff:\n",
    "*.log\n",
    "local_settings.py\n",
    "db.sqlite3\n",
    "db.sqlite3-journal\n",
    "\n",
    "# Flask stuff:\n",
    "instance/\n",
    ".webassets-cache\n",
    "\n",
    "# Scrapy stuff:\n",
    ".scrapy\n",
    "\n",
    "# Sphinx documentation\n",
    "docs/_build/\n",
    "\n",
    "# PyBuilder\n",
    ".pybuilder/\n",
    "target/\n",
    "\n",
    "# Jupyter Notebook\n",
    ".ipynb_checkpoints\n",
    "\n",
    "# IPython\n",
    "profile_default/\n",
    "ipython_config.py\n",
    "\n",
    "# pyenv\n",
    "#   For a library or package, you might want to ignore these files since the code is\n",
    "#   intended to run in multiple environments; otherwise, check them in:\n",
    "# .python-version\n",
    "\n",
    "# pipenv\n",
    "#   According to pypa/pipenv#598, it is recommended to include Pipfile.lock in version control.\n",
    "#   However, in case of collaboration, if having platform-specific dependencies or dependencies\n",
    "#   having no cross-platform support, pipenv may install dependencies that don't work, or not\n",
    "#   install all needed dependencies.\n",
    "#Pipfile.lock\n",
    "\n",
    "# poetry\n",
    "#   Similar to Pipfile.lock, it is generally recommended to include poetry.lock in version control.\n",
    "#   This is especially recommended for binary packages to ensure reproducibility, and is more\n",
    "#   commonly ignored for libraries.\n",
    "#   https://python-poetry.org/docs/basic-usage/#commit-your-poetrylock-file-to-version-control\n",
    "#poetry.lock\n",
    "\n",
    "# pdm\n",
    "#   Similar to Pipfile.lock, it is generally recommended to include pdm.lock in version control.\n",
    "#pdm.lock\n",
    "#   pdm stores project-wide configurations in .pdm.toml, but it is recommended to not include it\n",
    "#   in version control.\n",
    "#   https://pdm.fming.dev/latest/usage/project/#working-with-version-control\n",
    ".pdm.toml\n",
    ".pdm-python\n",
    ".pdm-build/\n",
    "\n",
    "# PEP 582; used by e.g. github.com/David-OConnor/pyflow and github.com/pdm-project/pdm\n",
    "__pypackages__/\n",
    "\n",
    "# Celery stuff\n",
    "celerybeat-schedule\n",
    "celerybeat.pid\n",
    "\n",
    "# SageMath parsed files\n",
    "*.sage.py\n",
    "\n",
    "# Environments\n",
    ".env\n",
    ".venv\n",
    "env/\n",
    "venv/\n",
    "ENV/\n",
    "env.bak/\n",
    "venv.bak/\n",
    "\n",
    "# Spyder project settings\n",
    ".spyderproject\n",
    ".spyproject\n",
    "\n",
    "# Rope project settings\n",
    ".ropeproject\n",
    "\n",
    "# mkdocs documentation\n",
    "/site\n",
    "\n",
    "# mypy\n",
    ".mypy_cache/\n",
    ".dmypy.json\n",
    "dmypy.json\n",
    "\n",
    "# Pyre type checker\n",
    ".pyre/\n",
    "\n",
    "# pytype static type analyzer\n",
    ".pytype/\n",
    "\n",
    "# Cython debug symbols\n",
    "cython_debug/\n",
    "\n",
    "# PyCharm\n",
    "#  JetBrains specific template is maintained in a separate JetBrains.gitignore that can\n",
    "#  be found at https://github.com/github/gitignore/blob/main/Global/JetBrains.gitignore\n",
    "#  and can be added to the global gitignore or merged into this file.  For a more nuclear\n",
    "#  option (not recommended) you can uncomment the following to ignore the entire idea folder.\n",
    "#.idea/"
   ]
  },
  {
   "cell_type": "markdown",
   "id": "d4ade796",
   "metadata": {},
   "source": [
    "Based on the code you're building and running, you may include different things in your code. Python is a language that often uses different libraries, so using the lines:"
   ]
  },
  {
   "cell_type": "code",
   "execution_count": null,
   "id": "5a5d54b5",
   "metadata": {
    "vscode": {
     "languageId": "shellscript"
    }
   },
   "outputs": [],
   "source": [
    "#Environments\n",
    ".env\n",
    ".venv\n",
    "env/\n",
    "venv/\n",
    "ENV/\n",
    "env.bak/\n",
    "venv.bak/"
   ]
  },
  {
   "cell_type": "markdown",
   "id": "13a7cb13",
   "metadata": {},
   "source": [
    "Would make more sense than adding it to a .gitignore for a project done entirely in Java, because you'd be far more likely to be using a virtual environment running python code rather than java code. "
   ]
  },
  {
   "cell_type": "markdown",
   "id": "0b4d4164",
   "metadata": {},
   "source": [
    "Depending on your needs, what you're running, what it produces, and how it builds, you can customize your .gitignore to make sure you're not commiting anything you don't want to be, which ensures a clean, easy-to-navigate repository. "
   ]
  },
  {
   "cell_type": "markdown",
   "id": "c8b85615",
   "metadata": {},
   "source": [
    "## Using .gitignores with API keys"
   ]
  }
 ],
 "metadata": {
  "kernelspec": {
   "display_name": "Python 3 (ipykernel)",
   "language": "python",
   "name": "python3"
  },
  "language_info": {
   "codemirror_mode": {
    "name": "ipython",
    "version": 3
   },
   "file_extension": ".py",
   "mimetype": "text/x-python",
   "name": "python",
   "nbconvert_exporter": "python",
   "pygments_lexer": "ipython3",
   "version": "3.12.3"
  }
 },
 "nbformat": 4,
 "nbformat_minor": 5
}
