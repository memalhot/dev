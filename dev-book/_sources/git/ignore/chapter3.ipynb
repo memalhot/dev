{
 "cells": [
  {
   "cell_type": "markdown",
   "id": "c20bffe2-d852-4b42-9c80-e43dbe8ebc45",
   "metadata": {},
   "source": [
    "# Writing Commit Messages"
   ]
  },
  {
   "cell_type": "markdown",
   "id": "5942212f-37f3-418e-b3cb-d852552e32cc",
   "metadata": {},
   "source": [
    "Okay, so you've written some code, and now you want to commit what you've done, and it comes time to write that -m message. In a rush, you just write \"doing stuff\" or leave another cryptic remark. Why do commit messages matter anyway?\n",
    "\n",
    "## Why Commit Messages Matter\n",
    "\n",
    "What a grand adventure we have begun.\n",
    "\n",
    "\n",
    "## How To Write A Good Commit Message\n"
   ]
  }
 ],
 "metadata": {
  "kernelspec": {
   "display_name": "Python 3 (ipykernel)",
   "language": "python",
   "name": "python3"
  },
  "language_info": {
   "codemirror_mode": {
    "name": "ipython",
    "version": 3
   },
   "file_extension": ".py",
   "mimetype": "text/x-python",
   "name": "python",
   "nbconvert_exporter": "python",
   "pygments_lexer": "ipython3",
   "version": "3.10.5"
  }
 },
 "nbformat": 4,
 "nbformat_minor": 5
}
