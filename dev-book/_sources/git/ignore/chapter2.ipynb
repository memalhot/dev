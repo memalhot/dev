{
 "cells": [
  {
   "cell_type": "markdown",
   "id": "c20bffe2-d852-4b42-9c80-e43dbe8ebc45",
   "metadata": {},
   "source": [
    "# Using a .gitignore"
   ]
  },
  {
   "cell_type": "markdown",
   "id": "5942212f-37f3-418e-b3cb-d852552e32cc",
   "metadata": {},
   "source": [
    "What is a .gitignore, and why do you use one?\n",
    "## Overview\n",
    "\n",
    "A .gitignore is a file, title .gitignore, put in the main directory of your project to ignore certain files and not include them in your final repositories. These can be compiled object files like .o files, whole directories, or .env files that can't be pushed for security reasons."
   ]
  },
  {
   "cell_type": "markdown",
   "id": "ba11c989",
   "metadata": {},
   "source": [
    "Here's an example .gitignore from https://github.com/github/gitignore/tree/main for java programs:"
   ]
  },
  {
   "cell_type": "markdown",
   "id": "7be097d8-e9a2-4491-9e9e-ccf456698754",
   "metadata": {
    "vscode": {
     "languageId": "shellscript"
    }
   },
   "source": [
    "```# Compiled class file\n",
    "*.class\n",
    "\n",
    "# Log file\n",
    "*.log\n",
    "\n",
    "# BlueJ files\n",
    "*.ctxt\n",
    "\n",
    "# Mobile Tools for Java (J2ME)\n",
    ".mtj.tmp/\n",
    "\n",
    "# Package Files #\n",
    "*.jar\n",
    "*.war\n",
    "*.nar\n",
    "*.ear\n",
    "*.zip\n",
    "*.tar.gz\n",
    "*.rar\n",
    "\n",
    "# virtual machine crash logs, see http://www.java.com/en/download/help/error_hotspot.xml\n",
    "hs_err_pid*\n",
    "replay_pid*```"
   ]
  },
  {
   "cell_type": "markdown",
   "id": "3582d03a",
   "metadata": {},
   "source": [
    "...and here's another one from the same repo for python programs that's been slightly edited for conciseness"
   ]
  },
  {
   "cell_type": "markdown",
   "id": "c1e5f90f",
   "metadata": {
    "vscode": {
     "languageId": "shellscript"
    }
   },
   "source": [
    "```# Byte-compiled / optimized / DLL files\n",
    "__pycache__/\n",
    "*.py[cod]\n",
    "*$py.class\n",
    "\n",
    "# C extensions\n",
    "*.so\n",
    "\n",
    "# Distribution / packaging\n",
    ".Python\n",
    "build/\n",
    "develop-eggs/\n",
    "dist/\n",
    "downloads/\n",
    "eggs/\n",
    ".eggs/\n",
    "lib/\n",
    "lib64/\n",
    "parts/\n",
    "sdist/\n",
    "var/\n",
    "wheels/\n",
    "share/python-wheels/\n",
    "*.egg-info/\n",
    ".installed.cfg\n",
    "*.egg\n",
    "MANIFEST\n",
    "\n",
    "# Installer logs\n",
    "pip-log.txt\n",
    "pip-delete-this-directory.txt\n",
    "\n",
    "# Unit test / coverage reports\n",
    "htmlcov/\n",
    ".tox/\n",
    ".nox/\n",
    ".coverage\n",
    ".coverage.*\n",
    ".cache\n",
    "nosetests.xml\n",
    "\n",
    "# Translations\n",
    "*.mo\n",
    "*.pot\n",
    "\n",
    "# Django stuff:\n",
    "*.log\n",
    "local_settings.py\n",
    "db.sqlite3\n",
    "db.sqlite3-journal\n",
    "\n",
    "# Flask stuff:\n",
    "instance/\n",
    ".webassets-cache\n",
    "\n",
    "# Scrapy stuff:\n",
    ".scrapy\n",
    "\n",
    "# Sphinx documentation\n",
    "docs/_build/\n",
    "\n",
    "# PyBuilder\n",
    ".pybuilder/\n",
    "target/\n",
    "\n",
    "# Jupyter Notebook\n",
    ".ipynb_checkpoints\n",
    "\n",
    "# IPython\n",
    "profile_default/\n",
    "ipython_config.py\n",
    "\n",
    "# pyenv\n",
    "#   For a library or package, you might want to ignore these files since the code is\n",
    "#   intended to run in multiple environments; otherwise, check them in:\n",
    "# .python-version\n",
    "\n",
    "# Environments\n",
    ".env\n",
    ".venv\n",
    "env/\n",
    "venv/\n",
    "ENV/\n",
    "env.bak/\n",
    "venv.bak/\n",
    "\n",
    "# Spyder project settings\n",
    ".spyderproject\n",
    ".spyproject"
   ]
  },
  {
   "cell_type": "markdown",
   "id": "d4ade796",
   "metadata": {},
   "source": [
    "Based on the code you're building and running, you may include different things in your code. Python is a language that often uses different libraries, so using the lines:"
   ]
  },
  {
   "cell_type": "markdown",
   "id": "5a5d54b5",
   "metadata": {
    "vscode": {
     "languageId": "shellscript"
    }
   },
   "source": [
    "```\n",
    "#Environments\n",
    "env/\n",
    "venv/\n",
    "ENV/\n",
    "env.bak/\n",
    "venv.bak/"
   ]
  },
  {
   "cell_type": "markdown",
   "id": "13a7cb13",
   "metadata": {},
   "source": [
    "Would make more sense than adding it to a .gitignore for a project done entirely in Java, because you'd be far more likely to be using a virtual environment running python code rather than java code. "
   ]
  },
  {
   "cell_type": "markdown",
   "id": "0b4d4164",
   "metadata": {},
   "source": [
    "Depending on your needs, what you're running, what it produces, and how it builds, you can customize your .gitignore to make sure you're not commiting anything you don't want to be, which ensures a clean, easy-to-navigate repository. "
   ]
  },
  {
   "cell_type": "markdown",
   "id": "c8b85615",
   "metadata": {},
   "source": [
    "## Using .gitignores with API keys"
   ]
  },
  {
   "cell_type": "markdown",
   "id": "5212c67a",
   "metadata": {},
   "source": [
    "API keys should not be published to public repositories, so they are often stored in .env files. These .env files can be stored in a .gitignore by using a single line that just looks like"
   ]
  }
 ],
 "metadata": {
  "kernelspec": {
   "display_name": "Python 3 (ipykernel)",
   "language": "python",
   "name": "python3"
  },
  "language_info": {
   "codemirror_mode": {
    "name": "ipython",
    "version": 3
   },
   "file_extension": ".py",
   "mimetype": "text/x-python",
   "name": "python",
   "nbconvert_exporter": "python",
   "pygments_lexer": "ipython3",
   "version": "3.12.3"
  }
 },
 "nbformat": 4,
 "nbformat_minor": 5
}
