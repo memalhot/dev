{
 "cells": [
  {
   "cell_type": "markdown",
   "id": "c20bffe2-d852-4b42-9c80-e43dbe8ebc45",
   "metadata": {},
   "source": [
    "# Reading the Man Pages"
   ]
  },
  {
   "cell_type": "markdown",
   "id": "084c30ec",
   "metadata": {},
   "source": [
    "Warning - this page is under construction and not complete!\n",
    "\n",
    "There's an old joke that goes the only command you need to know in linux is man, and hopefully by the end of this chapter you'll understand why."
   ]
  },
  {
   "cell_type": "markdown",
   "id": "5942212f-37f3-418e-b3cb-d852552e32cc",
   "metadata": {},
   "source": [
    "\n",
    "## Learning about Documentation"
   ]
  },
  {
   "cell_type": "markdown",
   "id": "7be097d8-e9a2-4491-9e9e-ccf456698754",
   "metadata": {},
   "source": [
    "What are man pages? What is documentation?\n",
    "\n",
    "Documentation is written content that helps explain how some code or technology should be used. Linux has it's own built in documentation, called the man pages (man being short for manual). "
   ]
  },
  {
   "cell_type": "markdown",
   "id": "837c0e72",
   "metadata": {},
   "source": [
    "![image.png](../../images/src/man2.png)"
   ]
  },
  {
   "cell_type": "markdown",
   "id": "cd63610d",
   "metadata": {},
   "source": [
    "You can usually get to the manpages by using man [ name of the command ]"
   ]
  },
  {
   "cell_type": "raw",
   "id": "fec791dd",
   "metadata": {
    "vscode": {
     "languageId": "raw"
    }
   },
   "source": [
    "man ls"
   ]
  },
  {
   "cell_type": "markdown",
   "id": "deeb061a",
   "metadata": {},
   "source": [
    "The man pages are a great resource for understanding linux commands. But if you are new to reading them, they can be confusing. Let's break it down."
   ]
  }
 ],
 "metadata": {
  "kernelspec": {
   "display_name": "Python 3 (ipykernel)",
   "language": "python",
   "name": "python3"
  },
  "language_info": {
   "codemirror_mode": {
    "name": "ipython",
    "version": 3
   },
   "file_extension": ".py",
   "mimetype": "text/x-python",
   "name": "python",
   "nbconvert_exporter": "python",
   "pygments_lexer": "ipython3",
   "version": "3.12.3"
  }
 },
 "nbformat": 4,
 "nbformat_minor": 5
}
