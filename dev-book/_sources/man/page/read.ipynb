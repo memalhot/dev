{
 "cells": [
  {
   "cell_type": "markdown",
   "id": "c20bffe2-d852-4b42-9c80-e43dbe8ebc45",
   "metadata": {},
   "source": [
    "# Reading the Man Pages"
   ]
  },
  {
   "cell_type": "markdown",
   "id": "084c30ec",
   "metadata": {},
   "source": [
    "There's an old joke that goes the only command you need to know in linux is man, and hopefully by the end of this chapter you'll understand why."
   ]
  },
  {
   "cell_type": "markdown",
   "id": "7be097d8-e9a2-4491-9e9e-ccf456698754",
   "metadata": {},
   "source": [
    "What are man pages? What is documentation?\n",
    "\n",
    "## Documentation, Documentation, Documentation\n",
    "Remember when we said writing good documentation is essential to developing durable, usable software? No? Well, writing good documentation is essential to developing durable, usable software. Want proof? Look no further than the linux man pages. \n",
    "\n",
    "Linux man pages are a type of documentation, written content that can explain how software or a technology works. Documentation can be written for all aspects of a technology’s life from its usage, to its development, to its maintenance. In this case, the man pages are written as user-oriented documentation—a manual, if you will—and its users are not necessarily consumers, but software developers themselves.\n",
    "\n",
    "It’s important to consider man pages within the broader context of software documentation. \n",
    "\n",
    "Documentation is written content that helps explain how some code or technology should be used. Linux has it's own built in documentation, called the man pages (man being short for manual). "
   ]
  },
  {
   "cell_type": "markdown",
   "id": "837c0e72",
   "metadata": {},
   "source": [
    "![image.png](../../images/src/man2.png)\n",
    "\n",
    "Image Source: https://wiki.gentoo.org/wiki/Man_page"
   ]
  },
  {
   "cell_type": "markdown",
   "id": "dad6810a",
   "metadata": {},
   "source": [
    "## Man, oh man! (Dissecting the man command)\n",
    "\n",
    "So how do we get there? They only show up if you ask for them. And they work just like the tools we learned in our command line chapter. \n",
    "\n",
    "By using `man [ name of the command ]`\n",
    "So, if you wanted to look at `ls`'s man page, you would type\n",
    "\n",
    "`man ls`\n",
    "\n",
    "There are 281,555 (non-unique) man pages floating around in the Unix & Linux commands man pages set. This means Unix has basically has a built in manual, that you can use at any time, explaining the use of each command, and ways to manipulate that command's behavior through options."
   ]
  },
  {
   "cell_type": "markdown",
   "id": "deeb061a",
   "metadata": {},
   "source": [
    "## Reading the Man Page\n",
    "So... now that we've gotten to a man page, (reminder: `man your-desired-command`) how do we read a man page?\n",
    "\n",
    "After you type your command, linux will display the page that you requested. The first thing you might notice about the page is that there is a LOT of writing. Remember how we said linux man pages are an example of good documentation? Well, they’re also extensive. And while it may seem daunting, each man page is clearly and uniformly organized into specific parts, once you understand the organization behind man pages, you will have a much easier time wading through them. \n",
    "\n",
    "Every man page is broken up into at least six distinct parts:\n",
    "Let's break it down."
   ]
  },
  {
   "cell_type": "markdown",
   "id": "0b25bc49",
   "metadata": {},
   "source": [
    "\n",
    "| Section Name | Description                                      |\n",
    "|--------------|--------------------------------------------------|\n",
    "| NAME         | A given command’s name and short description    |\n",
    "| SYNOPSIS     | A given command’s proper syntax                 |\n",
    "| DESCRIPTION  | A full explanation of how a given command works |\n",
    "| OPTIONS      | Optional parameters for a given command and their descriptions |\n",
    "| EXAMPLES     | Command line and script examples of the given command |\n",
    "| SEE ALSO     | Related man pages to the given command          |\n",
    "\n",
    "\n"
   ]
  },
  {
   "cell_type": "markdown",
   "id": "854193be",
   "metadata": {},
   "source": [
    "For example:\n",
    "\n",
    "This is what grep's manpage would look like:\n",
    "![img](../../images/src/grep.png)\n",
    "\n",
    "Image Source: https://unix.stackexchange.com/questions/630687/how-to-pipe-manpage-to-grep\n",
    "\n",
    "Other possible sections of some man pages include ENVIRONMENT, EXIT STATUS, COMPATIBILITY, and more! "
   ]
  },
  {
   "cell_type": "markdown",
   "id": "5f12edf3",
   "metadata": {},
   "source": [
    "## Talkin' about Options\n",
    "\n",
    "Options let you manipulate the behavior of specific commands. Say you want to delete a directory without having to confirm if it's ok with your system ( which can get tedious, albeit a little unsafe... ), instead of just using `rm`, you would use `rm -rf`, with the -r standing for recursive and -f standing for with force (no annoying asking!). This option lets you use the command in a more useful and custom way. Another example of this you may have seen is `ls -la` list all the hidden files in a directory.\n",
    "\n",
    "Most options use a - or -- followed by a letter. The man pages specify what letters can be used as options, and what the modified behavior is.\n",
    "\n",
    "So, now, how do we read the options?"
   ]
  },
  {
   "cell_type": "markdown",
   "id": "29b2f5bc",
   "metadata": {},
   "source": [
    "## Syntax to Know\n",
    "\n",
    "**Optional Arguments**  \n",
    "When an argument is optional, it's usually enclosed in square brackets. And sometimes there might be multiple optional arguments, and each will have their own set of square brackets.  \n",
    "\n",
    "Let's look at an example, using the command ping, that tests the reachability of a host: \n",
    "\n",
    "```\n",
    "ping [-c count] [-t ttl] host\n",
    "```  \n",
    "\n",
    "As we can see here, `host` is required, while `-c count` and `-t ttl` are optional!\n",
    "\n",
    "**Mutually Exclusive Arguments**\n",
    "Some argument's can't operate at the same time. You have to choose one option, rather than both. This means that they are mutually exclusive.\n",
    "\n",
    "Curly braces show that the arguments are mutually exclusive. Multiple mutually exclusive options can be separated by a pipe (|).  \n",
    "\n",
    "Let's look at an example, you can choose either `--silent` or `--verbose`, because the two options are conflicting:\n",
    "\n",
    "```\n",
    "{--silent|--verbose}\n",
    "```  \n",
    "\n",
    "**Arguments That Can Repeat**  \n",
    "Use three dots (...) without spaces (an ellipsis) to indicate that an argument can be repeated multiple times.  \n",
    "\n",
    "Let's look at another example, looking at the man page for ln, which links files:\n",
    "```\n",
    "    ln [OPTION]... TARGET\n",
    "```\n",
    "\n",
    "So, it could look like...\n",
    "\n",
    "```\n",
    "ln file1 file2 file3 target_directory/\n",
    "```\n",
    "Because the `...` tells us we can have multiple arguments.\n",
    "\n",
    "**Uppercase vs Lowercase**\n",
    "A reminder that options are case sensitive!\n",
    "\n",
    "**Short Options vs Long Options**\n",
    "Single-letter options that are preceded by a minus sign (-). The case of the letter is important, as different options have different effects. For example, -e and -E are different options. These are referred to as short options. Long options are made up of two hyphens followed by one or more lowercase alphanumeric words. Hyphens separate the words. So, rather than dealing with letters which can get cryptic and confusing, you have the option to have a longer but more clear option.\n",
    "\n",
    "For instance: `ls -a` vs `ls --all`\n",
    "\n",
    "**Flags vs Options**\n",
    "A Stackoverflow user defines the difference between them here:\n",
    "\"A flag is a type of option, an option of boolean type, and is always false by default (e.g. --verbose, --quiet, --all, --long, etc).\n",
    "\n",
    "An option tells the function how to act (e.g. -a, -l, --verbose, --output , -name , -c , etc), whist an arguments tells the function what to act on/from (e.g. *, file1, hostname, database).\"\n",
    "\n",
    "Source: https://unix.stackexchange.com/questions/285575/whats-the-difference-between-a-flag-an-option-and-an-argument\n",
    "\n",
    "**Inverse flags**\n",
    "These are flags with the opposite behaviour, that are mutually exclusive. Often based off the behaviour if other flags because they are inverse. They begin with --no-. For example, --sort and --no-sort. \n"
   ]
  },
  {
   "cell_type": "markdown",
   "id": "da03223e",
   "metadata": {},
   "source": [
    "![ls manpage](../../images/src/sl.png)\n",
    "\n",
    "Image Source: https://www.zdnet.com/article/what-are-man-pages-and-why-are-they-important-to-your-linux-education/"
   ]
  },
  {
   "cell_type": "markdown",
   "id": "e12a704b",
   "metadata": {},
   "source": [
    "## How to exit a man page\n",
    "Finished reading a command’s documentation? Use the `Q` key to return to the command line!\n",
    "\n",
    "![ls manpage](../../images/src/rename.png)\n",
    "\n",
    "Image Source: https://www.reddit.com/r/unixporn/comments/2b9pfl/procedurally_colored_man_pages_every_man_page_has/\n",
    "\n",
    "## Now You Try!\n",
    "So how do we read a man page?\n",
    "So you’ve correctly typed in your man command. Now what? Well, unless the man pages are abjectly broken, linux will display the page that you requested. The first thing you might notice about the page is that there is a LOT of writing. Remember how we said linux man pages are an example of good documentation? Well, they’re also extensive, which means they are detailed. And while extensive is a daunting word, each man page is clearly and uniformly organized into specific parts, kind of like a scientific article. Just like with a scientific article, once you understand the organization behind man pages, you will have a much easier time wading through them. \n",
    "\n",
    "Every man page is broken up into at least six distinct parts:\n",
    "\n",
    "Find the man pages’ man page. You heard me. Type man man in your command line and see what happens!\n",
    "\n",
    "```\n",
    "man man\n",
    "```\n",
    "\n",
    "We promise the result is not as goofy as you’d think! \n",
    "Happy exploring!\n"
   ]
  }
 ],
 "metadata": {
  "kernelspec": {
   "display_name": "Python 3 (ipykernel)",
   "language": "python",
   "name": "python3"
  },
  "language_info": {
   "codemirror_mode": {
    "name": "ipython",
    "version": 3
   },
   "file_extension": ".py",
   "mimetype": "text/x-python",
   "name": "python",
   "nbconvert_exporter": "python",
   "pygments_lexer": "ipython3",
   "version": "3.12.3"
  }
 },
 "nbformat": 4,
 "nbformat_minor": 5
}
