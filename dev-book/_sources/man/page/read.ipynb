{
 "cells": [
  {
   "cell_type": "markdown",
   "id": "c20bffe2-d852-4b42-9c80-e43dbe8ebc45",
   "metadata": {},
   "source": [
    "# Reading the Man Pages"
   ]
  },
  {
   "cell_type": "markdown",
   "id": "084c30ec",
   "metadata": {},
   "source": [
    "Warning - this page is under construction and not complete!\n",
    "\n",
    "There's an old joke that goes the only command you need to know in linux is man, and hopefully by the end of this chapter you'll understand why."
   ]
  },
  {
   "cell_type": "markdown",
   "id": "7be097d8-e9a2-4491-9e9e-ccf456698754",
   "metadata": {},
   "source": [
    "What are man pages? What is documentation?\n",
    "\n",
    "## Documentation, Documentation, Documentation\n",
    "Remember when we said writing good documentation is essential to developing durable, usable software? No? Well, writing good documentation is essential to developing durable, usable software. Want proof? Look no further than the linux man pages. \n",
    "\n",
    "Linux man pages are a type of documentation, written content that can explain how software or a technology works. Documentation can be written for all aspects of a technology’s life from its usage, to its development, to its maintenance. In this case, the man pages are written as user-oriented documentation—a manual, if you will—and its users are not necessarily consumers, but software developers themselves.\n",
    "\n",
    "It’s important to consider man pages within the broader context of software documentation. \n",
    "\n",
    "Documentation is written content that helps explain how some code or technology should be used. Linux has it's own built in documentation, called the man pages (man being short for manual). "
   ]
  },
  {
   "cell_type": "markdown",
   "id": "837c0e72",
   "metadata": {},
   "source": [
    "![image.png](../../images/src/man2.png)\n",
    "\n",
    "Image Source: https://wiki.gentoo.org/wiki/Man_page"
   ]
  },
  {
   "cell_type": "markdown",
   "id": "dad6810a",
   "metadata": {},
   "source": [
    "## Man, oh man! (Dissecting the man command)\n",
    "\n",
    "So how do we get there? They only show up if you ask for them. And they work just like the tools we learned in our command line chapter. \n",
    "\n",
    "By using `man [ name of the command ]`\n",
    "So, if you wanted to look at `ls`'s man page, you would type\n",
    "`man ls`\n",
    "\n",
    "There are 281,555 (non-unique) man pages floating around in the Unix & Linux commands man pages set. This means Unix has basically has a built in manual, that you can use at any time, explaining the use of each command, and ways to manipulate that command's behavior through options."
   ]
  },
  {
   "cell_type": "markdown",
   "id": "deeb061a",
   "metadata": {},
   "source": [
    "The man pages are a great resource for understanding linux commands. But if you are new to reading them, they can be confusing. Let's break it down."
   ]
  },
  {
   "cell_type": "markdown",
   "id": "0b25bc49",
   "metadata": {},
   "source": [
    "Every man page is broken up into at least six distinct parts:\n",
    "\n",
    "| Section Name | Description                                      |\n",
    "|--------------|--------------------------------------------------|\n",
    "| NAME         | A given command’s name and short description    |\n",
    "| SYNOPSIS     | A given command’s proper syntax                 |\n",
    "| DESCRIPTION  | A full explanation of how a given command works |\n",
    "| OPTIONS      | Optional parameters for a given command and their descriptions |\n",
    "| EXAMPLES     | Command line and script examples of the given command |\n",
    "| SEE ALSO     | Related man pages to the given command          |\n"
   ]
  }
 ],
 "metadata": {
  "kernelspec": {
   "display_name": "Python 3 (ipykernel)",
   "language": "python",
   "name": "python3"
  },
  "language_info": {
   "codemirror_mode": {
    "name": "ipython",
    "version": 3
   },
   "file_extension": ".py",
   "mimetype": "text/x-python",
   "name": "python",
   "nbconvert_exporter": "python",
   "pygments_lexer": "ipython3",
   "version": "3.12.3"
  }
 },
 "nbformat": 4,
 "nbformat_minor": 5
}
